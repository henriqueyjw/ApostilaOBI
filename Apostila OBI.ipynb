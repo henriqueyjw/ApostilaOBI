{
 "cells": [
  {
   "cell_type": "markdown",
   "metadata": {},
   "source": [
    "# Introdução à Programação em *Python* para Olimpíada Brasileira de Informática (OBI)\n",
    "### *Henrique Leite dos Santos, Henrique Wang e Paulo José Mencacci Costa*\n",
    "\n",
    "### 1. Introdução\n",
    "\n",
    "O objetivo dessa apostila é fornecer um material auxiliar para alunos e ex-alunos da Associação Cactus que tenham interesse em ingressar ao mundo da programação por meio da Olimpíada Brasileira de Informática (OBI). A OBI oferece diferentes linguagens de programação para realização da prova. Escolhemos o **`Python`** por sua maior simplicidade e por ser uma ótima linguagem para um primeiro contato. Esse material destina-se principalmente para alunos de Ensino Médio e Ensino Fundamental II. Para saber mais sobre as modalidades e outras informações da Olimpíada, acesse: <https://olimpiada.ic.unicamp.br/>.\n",
    "\n",
    "Antes de iniciar os estudos, é importante que os alunos façam a instalação do Python corretamente. Para isso, é feito o *download* do programa **`Anaconda`** (<https://www.anaconda.com/products/individual>). Dentro desse programa, utilizaremos o **`Jupyter Notebook`**. A parte de instalação é confusa, por isso é importante que o aluno faça essa parte com muito cuidado. Um vídeo que mostra o passo a passo da instalação é <https://www.youtube.com/watch?v=5mDYijMfSzs>. O vídeo possui áudio em inglês. Em português, um vídeo que pode ajudar nesse processo é <https://www.youtube.com/watch?v=BP4D-yaxw6E>. Vale ressaltar, **`Google`** e **`YouTube`** são ótimos para nos ajudar. Como o **`Python`** é amplamente usado no mundo todo, há muita informação disponível. Sempre que houver dúvida (na instalação ou posteriormente), procure na Internet! Você sempre acha uma pessoa que teve essa mesma dúvida!\n",
    "\n",
    "Essa apostila será organizada em duas etapas além desta Introdução. Primeiro, apresentaremos os principais comandos da linguagem, explicando como funciona e para que servem cada um. Nessa etapa, buscaremos apresentar exemplos simples e de fácil compreensão. Por fim, apresentaremos exercícios, da OBI e exercícios próprios, juntamente com suas resoluções. É importante deixar claro desde já: a resolução não é única. Alunos diferentes podem propor diferentes resoluções e ambas estarem certas. Por isso, apresentaremos uma alternativa de solução.\n",
    "\n",
    "Algumas considerações devem ser feitas. Essa apostila sofrerá modificações ao longo do tempo, de forma a ser sempre aprimorada. Novos conteúdos e exercícios devem ser inseridos de forma a termos uma apostila cada vez mais completa e mais próxima das exigências da OBI. Ainda, a ideia é que essa apostila sirva de material introdutório para a programação em **`Python`** e seja um instrumento importante para os alunos que tenham interesse em aprender um pouco de programação e, quem sabe, seguir uma profissão que envolva conteúdos do tipo. \n",
    "\n",
    "Por fim, sobre os autores: Paulo Mencacci e Henrique Wang são já graduados e contribuem para o projeto desenvolvido pela Cactus. Henrique Leite, por sua vez, é ex-aluno do projeto e atual bolsista em um colégio particular de São Paulo. É medalhista olímpico e a ideia de realização dessa apostila surgiu justamente após seu interesse em participar da Olimpíada Brasileira de Informática.\n",
    "\n",
    "### 2. Variáveis de entrada e saída\n",
    "\n",
    "Antes de aprendermos sobre os comandos, é importante que tenhamos uma noção de como os códigos se estruturam. Os exercícios da OBI focam muito no que chamamos de variáveis de entrada e variáveis de saída. Por isso, é muito importante que os alunos entendam as diferenças entre as duas. \n",
    "\n",
    "Basicamente, variáveis de entrada são as primeiras variáveis (veremos mais adiante os tipos de variável) que entram no problema. As variáveis de saída, por sua vez, representam a resposta. \n"
   ]
  },
  {
   "cell_type": "markdown",
   "metadata": {},
   "source": [
    "As variáveis de número podem assumir diversas especificações no python, dependendo do tipo de número que você deseja usar. Por exemplo, os números inteiros(sem decimais) são declarados como <font color='red'>**int** (integer)</font>, enquanto números com casas decimais são declarados como <font color='red'>**float**</font>. Note que qualquer número que contenha `.` como separador de decimais é caracterizado como **float**, independente se possui ou não casa decimal. \n",
    "Em casos especiais, os números complexos são declarados como <font color='red'>**complex**</font>, mas estes são raramente usados. As variáveis também podem assumir forma de <font color='red'>**string** (texto)</font>, onde a entrada passa a ser um texto qualquer (sempre entre aspas `''` ou `\" \"`)."
   ]
  },
  {
   "cell_type": "code",
   "execution_count": 49,
   "metadata": {},
   "outputs": [
    {
     "name": "stdout",
     "output_type": "stream",
     "text": [
      "Variable   Type       Data/Info\n",
      "-------------------------------\n",
      "t          str        Olimpíada de Informática\n",
      "w          int        10\n",
      "x          float      16.5\n",
      "y          float      10.0\n",
      "z          complex    3.14j\n"
     ]
    }
   ],
   "source": [
    "t = 'Olimpíada de Informática'\n",
    "w = 10\n",
    "x = 16.5\n",
    "y = 10.0\n",
    "z = 3.14j\n",
    "%whos"
   ]
  },
  {
   "cell_type": "markdown",
   "metadata": {},
   "source": [
    "Todas estas variáveis permitem as operações de adição e subtração."
   ]
  },
  {
   "cell_type": "code",
   "execution_count": 50,
   "metadata": {},
   "outputs": [
    {
     "name": "stdout",
     "output_type": "stream",
     "text": [
      "Olimpíada de Informática será hoje.\n",
      "50\n",
      "26.7\n"
     ]
    }
   ],
   "source": [
    "t += ' será hoje.'\n",
    "w += 40\n",
    "x += 10.2\n",
    "print(t,w,x, sep='\\n')"
   ]
  },
  {
   "cell_type": "code",
   "execution_count": 51,
   "metadata": {},
   "outputs": [
    {
     "name": "stdout",
     "output_type": "stream",
     "text": [
      "Olimpíada de Informática \n",
      "30\n",
      "18.0\n"
     ]
    }
   ],
   "source": [
    "t = t[:-10]\n",
    "w -= 20\n",
    "x -= 8.7\n",
    "print(t,w,x, sep='\\n')"
   ]
  },
  {
   "cell_type": "markdown",
   "metadata": {},
   "source": [
    "Por fim, podemos declarar um conjunto de dados como uma variável na forma de <font color='red'>**list** (listas)</font>, <font color='red'>**tuples** (tuplas)</font> ou <font color='red'>**dictionary** (dicionários)</font>. A diferença entre elas é que as **listas** permitem que você acrescente ou retire itens delas, as **tuplas** funcionam como uma **lista** que não podem ser alteradas e os **dicionários** sempre se referem a um **par** de variáveis, uma entrada e um significado (**entrada : significado**)."
   ]
  },
  {
   "cell_type": "code",
   "execution_count": 29,
   "metadata": {},
   "outputs": [
    {
     "name": "stdout",
     "output_type": "stream",
     "text": [
      "Variable   Type     Data/Info\n",
      "-----------------------------\n",
      "x          list     n=4\n",
      "y          tuple    n=4\n",
      "z          dict     n=3\n"
     ]
    }
   ],
   "source": [
    "del t\n",
    "del w \n",
    "x = [10, 15.0, 'idade', 3.14j]\n",
    "y = (10, 15.0, 'idade', 3.14j)\n",
    "z = {'Nome': 'Henrique', 'Idade': 30, 'Altura':1.73}\n",
    "%whos"
   ]
  },
  {
   "cell_type": "markdown",
   "metadata": {},
   "source": [
    "Note que **listas**, **tuplas** e **dicionários** aceitam tanto variáveis de número como texto. Essa característica é interessante em relação a outras liguagens, que aceitam somente um ou outro tipo. Agora, vamos mostrar como se acrescenta ou retira variáveis das **listas** e **dicionários** (lembre que as **tuplas** não podem ser alteradas):"
   ]
  },
  {
   "cell_type": "code",
   "execution_count": 21,
   "metadata": {},
   "outputs": [
    {
     "name": "stdout",
     "output_type": "stream",
     "text": [
      "[10, 15.0, 'idade', 3.14j, 'Texto']\n",
      "{'Nome': 'Henrique', 'Idade': 30, 'Altura': 1.73, 'Peso': 65}\n"
     ]
    }
   ],
   "source": [
    "x.append('Texto')\n",
    "z['Peso'] = 65\n",
    "print(x,z, sep='\\n')"
   ]
  },
  {
   "cell_type": "code",
   "execution_count": 22,
   "metadata": {},
   "outputs": [
    {
     "name": "stdout",
     "output_type": "stream",
     "text": [
      "[10, 15.0, 'idade', 3.14j]\n",
      "{'Nome': 'Henrique', 'Idade': 30, 'Altura': 1.73}\n"
     ]
    }
   ],
   "source": [
    "x.remove('Texto')\n",
    "del z['Peso']\n",
    "print(x,z, sep='\\n')"
   ]
  },
  {
   "cell_type": "code",
   "execution_count": null,
   "metadata": {},
   "outputs": [],
   "source": []
  },
  {
   "cell_type": "code",
   "execution_count": null,
   "metadata": {},
   "outputs": [],
   "source": []
  }
 ],
 "metadata": {
  "kernelspec": {
   "display_name": "Python 3",
   "language": "python",
   "name": "python3"
  },
  "language_info": {
   "codemirror_mode": {
    "name": "ipython",
    "version": 3
   },
   "file_extension": ".py",
   "mimetype": "text/x-python",
   "name": "python",
   "nbconvert_exporter": "python",
   "pygments_lexer": "ipython3",
   "version": "3.7.6"
  }
 },
 "nbformat": 4,
 "nbformat_minor": 4
}
