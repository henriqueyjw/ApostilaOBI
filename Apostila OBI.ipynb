{
 "cells": [
  {
   "cell_type": "markdown",
   "metadata": {},
   "source": [
    "# Introdução à Programação em *Python* para Olimpíada Brasileira de Informática (OBI)\n",
    "### *Enzo Costa Frediani, Gabriel dos Reis Vieira, Henrique Leite dos Santos, Henrique Wang e Paulo José Mencacci Costa*\n",
    "\n",
    "> Sobre os autores: Paulo Mencacci e Henrique Wang são já graduados e contribuem para o projeto desenvolvido pela Cactus. Henrique Leite, Gabriel e Enzo são atualmente bolsistas em colégios particulares de São Paulo. São medalhistas olímpicos e a ideia de realização dessa apostila surgiu justamente após interesse destes em participar da Olimpíada Brasileira de Informática. Ainda, Henrique Leite e Gabriel são ex-alunos da Cactus.\n",
    "\n",
    "## 1. Introdução\n",
    "\n",
    "O objetivo dessa apostila é fornecer um material auxiliar para alunos e ex-alunos da Associação Cactus que tenham interesse em ingressar ao mundo da programação por meio da Olimpíada Brasileira de Informática (OBI). A OBI oferece diferentes linguagens de programação para realização da prova. Escolhemos o `Python` por sua maior simplicidade e por ser uma ótima linguagem para um primeiro contato. Esse material destina-se principalmente para alunos de Ensino Médio e Ensino Fundamental II. Para saber mais sobre as modalidades e outras informações da Olimpíada, acesse: <https://olimpiada.ic.unicamp.br/>.\n",
    "\n",
    "Antes de iniciar os estudos, é importante que os alunos façam a instalação do `Python` corretamente. Para isso, é feito o *download* do programa `Anaconda` (<https://www.anaconda.com/products/individual>). Dentro desse programa, utilizaremos o `Jupyter Notebook`. A parte de instalação é confusa, por isso é importante que o aluno faça essa parte com muito cuidado. Um vídeo que mostra o passo a passo da instalação é <https://www.youtube.com/watch?v=5mDYijMfSzs>. O vídeo possui áudio em inglês. Em português, um vídeo que pode ajudar nesse processo é <https://www.youtube.com/watch?v=BP4D-yaxw6E>. \n",
    "\n",
    "Além do `Anaconda`, há outras alternativas para programar em `Python`. Uma bastante conhecida e também muito utilizada é o programa `PyCharm`. Essa é uma boa opção para quem está começando, pois o programa completa alguns comandos e oferece algumas dicas. Uma outra alternativa é o `IDLE`, programa mais interessante para quem está mais avançado, uma vez que o programa não identifica o erro para você. A vantagem deste último é o fato de ser um *software* mais leve. Na apostila, faremos o uso do `Jupyter Notebook`.\n",
    "\n",
    "Vale ressaltar, `Google` e `YouTube` são ótimos para nos ajudar. Como o `Python` é amplamente usado no mundo todo, há muita informação disponível. Sempre que houver dúvida (na instalação ou posteriormente), procure na Internet! Você sempre acha uma pessoa que teve essa mesma dúvida!\n",
    "\n",
    "Essa apostila será organizada em duas etapas além desta Introdução. Primeiro, apresentaremos os principais comandos da linguagem, explicando como funciona e para que servem cada um. Nessa etapa, buscaremos apresentar exemplos simples e de fácil compreensão. Por fim, apresentaremos exercícios, da OBI e exercícios de outras fontes, juntamente com suas resoluções. É importante deixar claro desde já: a resolução não é única. Alunos diferentes podem propor diferentes resoluções e ambas estarem certas. Por isso, apresentaremos uma alternativa de solução.\n",
    "\n",
    "Algumas considerações devem ser feitas. Essa apostila sofrerá modificações ao longo do tempo, de forma a ser sempre aprimorada. Novos conteúdos e exercícios devem ser inseridos de forma a termos uma apostila cada vez mais completa e mais próxima das exigências da OBI. Ainda, a ideia é que essa apostila sirva de material introdutório para a programação em `Python` e seja um instrumento importante para os alunos que tenham interesse em aprender um pouco de programação e, quem sabe, seguir uma profissão que envolva conteúdos do tipo. \n",
    "\n",
    "Por fim, uma dica: leia a apostila e, ao mesmo tempo, repita cada procedimento em seu computador! Assim existirá um ganho na aprendizagem e o estudo será ainda mais interessante! Bons estudos! \n",
    "\n",
    "## 2. Variáveis de entrada e saída\n",
    "\n",
    "Antes de aprendermos sobre os comandos, é importante que tenhamos uma noção de como os códigos se estruturam. Os exercícios da OBI focam muito no que chamamos de variáveis de entrada e variáveis de saída (veremos mais adiante os tipos de variável). Por isso, é muito importante que os alunos entendam as diferenças entre as duas. Mais adiante, veremos como implementar esses conceitos. \n",
    "\n",
    "Basicamente, variáveis de entrada são as primeiras variáveis que entram no problema. As variáveis de saída, por sua vez, representam a resposta. Em outras palavras, as variáveis de entrada são as primeiras informações que precisamos obter para rodar o código; as variáveis de saída correspondem ao resultado gerado pelo código. Veja alguns exemplos que podem facilitar o entendimento.\n",
    "\n",
    "**Exemplo 1: Digite seu ano de nascimento e será calculada a sua idade.**\n",
    "- Variável de entrada: ano de nascimento;\n",
    "- Variável de saída: sua idade.\n",
    "\n",
    "**Exemplo 2: Informe o número de lados de um polígono e obtenha o número de diagonais deste.**\n",
    "- Variável de entrada: número de lados de um polígono;\n",
    "- Variável de saída: número de diagonais desse polígono.\n",
    "\n",
    "**Exemplo 3: Você vai ao supermercado e compra diversos produtos, cujo preço depende do peso do produto. Você possui 50 reais. Suponha que toda a mercadoria que você pegou seja pesada no caixa, de forma que você só saberá o preço final na hora da compra. É possível comprar todos os produtos?** \n",
    "- Variáveis de entrada: o peso por quilo de cada produto que você comprou;\n",
    "- Variável de saída: sim, é possível comprar se o valor total for menor 50; Não, pois o valor total excede 50 reais.\n",
    "\n",
    "**Exemplo 4: Um dia você vai a uma loja que possui seu cadastro. A atendente da loja pede que você fale seu nome completo. O sistema da loja dirá se você tem direito à promoção**\n",
    "- Variável de entrada: nome completo;\n",
    "- Variável de saída: se tem direito ou não à promoção.\n",
    "\n",
    "Os exemplos deixam bem claro o seguinte processo: `Variáveis de entrada > Código > Variáveis de saída`. Nesse primeiro capítulo, estivemos interessados em entender os conceitos de variáveis de entrada e variáveis de saída, mas repare que entre esses dois conceitos há um código (conjunto de comandos, instruções) que vão permitir utilizar as informações iniciais (entrada) para gerar uma resposta (saída). Um dos nossos objetivos na apostila é entender como montar um código em `Python`.\n",
    "\n",
    "Por fim, repare que as variáveis possuem diferentes formatos. No Exemplo 1, as variáveis de entrada e saída são números inteiros. No Exemplo 2, tanto a variável de entrada como a variável de saída são números inteiros. No Exemplo 3, a variável de entrada é um número real (que permite casas decimais), enquanto a variável de saída representa somente um \"Sim\" ou um \"Não\" para o problema. No Exemplo 4, a variável de entrada são letras e a variável de saída representa o \"Sim\" ou \"Não\". O próximo tópico é justamente estudar quais são os tipos de variável e como defini-las. \n",
    "\n",
    "**Exercícios**\n",
    "\n",
    "Responda quais são as variáveis de entrada e saídas nas situações abaixo.\n",
    "\n",
    "1. Um time A joga contra um time B uma partida de futebol. Ganha quem fizer mais gols. Quem será vencedor dessa partida? \n",
    "\n",
    "2. Você foi a um restaurante e fez diversos pedidos. O garçom anota os nomes dos pedidos e escreve no computador. O programa associa o nome do pedido ao valor dele. Quanto ficou a refeição? \n",
    "\n",
    "3. Uma pessoa é muito ocupada. Ela trabalha 10 horas por dia e se dedica em casa por mais 5 horas. A cada dia ela define quantas horas irá dormir. Quanto tempo sobra para o lazer? \n",
    "\n",
    "4. Você quer calcular a hipotenusa de um triângulo retângulo, dado que você sabe os valores dos catetos. Dessa forma, você usa o teorema de Pitágoras: $$ a² = b² + c² $$ Quais as variáveis desse problema? \n",
    "\n",
    "5. Você precisa calcular a área de um triângulo qualquer. Para isso, você usará a fórmula de Herão: $$ A = \\sqrt{p(p-a)(p-b)(p-c)} $$ sendo $a$, $b$ e $c$ os lados do triângulo e $p$ o perímetro. Quais as variáveis desse problema?\n",
    "\n",
    "## 3. Tipos de variável\n",
    "\n",
    "Agora, nossa missão é entender quais são os tipos de variável. No capítulo anterior, vimos que as variáveis podem ser de diversos formatos, como número ou letras. Antes de iniciarmos, duas considerações devem ser feitas: \n",
    "\n",
    "1. Em `Python`, se quisermos comentar o código, ou seja, escrever um comando e explicar esse comando, usamos o `#`. Ao usar o `#`, tudo que for escrito ao lado dele é só um comentário, não faz parte do código. Ele é muito usado para explicar algum comando, deixar algum lembrete etc. \n",
    "2. Ainda, vamos \"guardar\" (salvar) a variável com algum nome. Para isso, usamos `=`. Assim, se escrevo algo como `x = 10`, eu sei que x vale 10.\n",
    "\n",
    "Veja os exemplos abaixo para entender melhor o que essas observações querem dizer:"
   ]
  },
  {
   "cell_type": "code",
   "execution_count": 37,
   "metadata": {},
   "outputs": [
    {
     "data": {
      "text/plain": [
       "10"
      ]
     },
     "execution_count": 37,
     "metadata": {},
     "output_type": "execute_result"
    }
   ],
   "source": [
    "# Exemplo 1\n",
    "x = 10\n",
    "x"
   ]
  },
  {
   "cell_type": "markdown",
   "metadata": {},
   "source": [
    "Na primeira linha, com o `#`, eu escrevi um comentário (\"Exemplo 1\"). Com a tecla `Enter`, eu pulo uma linha. Na segunda linha, eu salvo em `x` o valor 10, usando o comando `=`. Ou seja, `x`recebe o número 10. Novamente, teclo `Enter`, pulando mais uma linha. Na terceira e última linha, escrevo somente `x`, pois quando rodar o código, quero que ele me mostre o que tem em `x`. Agora, com `Shift + Enter`, eu rodo o código. O resultado que obtenho é o valor de 10. Repare que o comentário feito (\"Exemplo 1\") não aparece no resultado, pois é somente um comentário. Veja mais um exemplo:"
   ]
  },
  {
   "cell_type": "code",
   "execution_count": 4,
   "metadata": {},
   "outputs": [
    {
     "data": {
      "text/plain": [
       "'Estou aprendendo Python'"
      ]
     },
     "execution_count": 4,
     "metadata": {},
     "output_type": "execute_result"
    }
   ],
   "source": [
    "# Exemplo 2\n",
    "y = \"Estou aprendendo Python\"\n",
    "y"
   ]
  },
  {
   "cell_type": "markdown",
   "metadata": {},
   "source": [
    "Na primeira linha, com o `#`, eu escrevi um comentário (\"Exemplo 2\"). Na segunda linha, eu salvo em `y` o texto \"Estou aprendendo Python\". Repare a diferença: para salvar um texto em uma variável, preciso colocar esse texto entre aspas. Compare esse exemplo com o exemplo anterior. No Exemplo 1, como queria salvar um número, não precisei colocar entre aspas. Essa é uma diferença importante: números não precisam de aspas, mas as letras precisam! Na terceira linha, escrevo somente `y`, para saber o que tem guardado nessa variável. \n",
    "\n",
    "Mais uma observação válida e que você já deve ter notado: o `Python` coloca diferentes cores para diferentes funções. Por exemplo, comentários possuem uma cor azul-esverdeada, o número 10 aparece em verde e o texto \"Estou aprendendo Python\" possui cor vermelha. \n",
    "\n",
    "Agora já estamos preparados para aprender quais são os tipos de variável! \n",
    "\n",
    "### 3.1 Variáveis numéricas\n",
    "\n",
    "As variáveis de número podem assumir diversas especificações no `Python`, dependendo do tipo de número que você deseja usar. Por exemplo, os números inteiros (sem decimais) são declarados como `int` (vem do termo em inglês *integer*, ou seja, *inteiros* em português), enquanto números com casas decimais são declarados como `float` (traduzindo do inglês, seria algo *ponto flutuante*). Note que qualquer número que contenha \".\" (ponto) como separador de decimais é caracterizado como `float`, independente se possui ou não casa decimal (para representar casas decimais, **usamos ponto, não vírgula**). Veja os exemplos abaixo."
   ]
  },
  {
   "cell_type": "code",
   "execution_count": 5,
   "metadata": {},
   "outputs": [],
   "source": [
    "# Exemplo 3\n",
    "w = 200"
   ]
  },
  {
   "cell_type": "markdown",
   "metadata": {},
   "source": [
    "Aqui, `w` está recebendo o valor 200. Assim, esperamos que seja do tipo `int`. Para conferir isso, podemos usar o comando `type`:"
   ]
  },
  {
   "cell_type": "code",
   "execution_count": 6,
   "metadata": {},
   "outputs": [
    {
     "data": {
      "text/plain": [
       "int"
      ]
     },
     "execution_count": 6,
     "metadata": {},
     "output_type": "execute_result"
    }
   ],
   "source": [
    "type(w)"
   ]
  },
  {
   "cell_type": "markdown",
   "metadata": {},
   "source": [
    "Veja que ao escrevermos `type(w)`, foi retornado o tipo da variável `w`. Como esperado, ela é do tipo `int`. Veja, agora, o próximo exemplo:"
   ]
  },
  {
   "cell_type": "code",
   "execution_count": 7,
   "metadata": {},
   "outputs": [],
   "source": [
    "# Exemplo 4\n",
    "z = 16.5"
   ]
  },
  {
   "cell_type": "markdown",
   "metadata": {},
   "source": [
    "Aqui, `z` está recebendo o valor 16.5. Portanto, esperamos que seja do tipo `float`. Podemos conferir usando `type`:"
   ]
  },
  {
   "cell_type": "code",
   "execution_count": 8,
   "metadata": {},
   "outputs": [
    {
     "data": {
      "text/plain": [
       "float"
      ]
     },
     "execution_count": 8,
     "metadata": {},
     "output_type": "execute_result"
    }
   ],
   "source": [
    "type(z)"
   ]
  },
  {
   "cell_type": "markdown",
   "metadata": {},
   "source": [
    "Ao escrevermos `type(z)`, concluímos que, de fato, `z` é do tipo `float`. No exemplo abaixo, faremos esse processo de maneira mais rápida: "
   ]
  },
  {
   "cell_type": "code",
   "execution_count": 9,
   "metadata": {},
   "outputs": [
    {
     "data": {
      "text/plain": [
       "float"
      ]
     },
     "execution_count": 9,
     "metadata": {},
     "output_type": "execute_result"
    }
   ],
   "source": [
    "# Exemplo 5\n",
    "t = 10.0\n",
    "type(t)"
   ]
  },
  {
   "cell_type": "markdown",
   "metadata": {},
   "source": [
    "Declaramos `t` como 10.0. Por mais que seja um número inteiro, estamos colocando o **ponto**, que indica casas decimais. Dessa forma, ele será classificado como `float`. Resumindo, apredemos dois tipos de variáveis númericas:\n",
    "- Do tipo `int`: representa os números inteiros;\n",
    "- Do tipo `float`: que representa os números decimais ou números que apresentem **ponto**.\n",
    "\n",
    "### 3.2 Variáveis de texto\n",
    "\n",
    "As variáveis também podem assumir forma de texto (palavras), onde a entrada passa a ser um texto qualquer (sempre entre aspas ' ' ou \"  \"). O nome desse tipo de variável é `str` (vem do termo em inglês *string*; em português, traduziremos por *texto*). No Exemplo 2, você já viu como declarar esse tipo de variável. Porém, vamos fazer mais dois exemplos, já juntando com o comando `type`."
   ]
  },
  {
   "cell_type": "code",
   "execution_count": 10,
   "metadata": {},
   "outputs": [
    {
     "data": {
      "text/plain": [
       "str"
      ]
     },
     "execution_count": 10,
     "metadata": {},
     "output_type": "execute_result"
    }
   ],
   "source": [
    "# Exemplo 6\n",
    "texto_1 = \"Hello, World!\"\n",
    "type(texto_1)"
   ]
  },
  {
   "cell_type": "markdown",
   "metadata": {},
   "source": [
    "Obtemos o resultado esperado, uma vez que \"Hello, World!\" foi escrito entre aspas. Há uma observação sutil, mas importante: o nome da variável que guardei é `texto_1`. Antes, vínhamos usando somente letras separadas, como `x` ou `t`. Porém, podemos dar nomes mais completos, como o do Exemplo 6. **A principal regra para nomear variável é: não ter espaço entre as letras!** Ou seja, se eu tivesse escrito \"texto 1\" não funcionaria! Também é importante saber que letras maiúsculas são diferentes das letras minúsculas!"
   ]
  },
  {
   "cell_type": "code",
   "execution_count": 1,
   "metadata": {},
   "outputs": [
    {
     "data": {
      "text/plain": [
       "str"
      ]
     },
     "execution_count": 1,
     "metadata": {},
     "output_type": "execute_result"
    }
   ],
   "source": [
    "# Exemplo 7\n",
    "texto_2 = 'Os autores dessa apostila são: Enzo, Gabriel, Henrique L., Henrique W. e Paulo'\n",
    "type(texto_2)"
   ]
  },
  {
   "cell_type": "markdown",
   "metadata": {},
   "source": [
    "O Exemplo 7 não é muito diferente do Exemplo 6. Dessa vez, para representar a *string*, coloquei o texto entre ' '.\n",
    "\n",
    "### 3.3 Variáveis de lógica \n",
    "\n",
    "Outro tipo de variável importante é a variável do tipo \"Sim\" ou \"Não\" ou \"Verdadeiro\" ou \"Falso\". Os Exemplos 3 e 4 do Capítulo 2 são referentes a esse tipo de variável. Caso a condição seja atendida, recebe \"Verdadeiro\" ou \"Sim\"; caso a situação não seja válida, recebe \"Falso\" ou \"Não\". Essas variáveis também são chamadas de variáveis *booleanas*. Por isso, o tipo dessa variável é descrito como `bool`. Para declarar esse tipo de variável, usamos as expressões `True` e `False` (em português, *verdadeiro* ou *falso*). Veja os exemplos abaixo."
   ]
  },
  {
   "cell_type": "code",
   "execution_count": 12,
   "metadata": {},
   "outputs": [
    {
     "data": {
      "text/plain": [
       "bool"
      ]
     },
     "execution_count": 12,
     "metadata": {},
     "output_type": "execute_result"
    }
   ],
   "source": [
    "# Exemplo 8\n",
    "b_1 = True\n",
    "type(b_1)"
   ]
  },
  {
   "cell_type": "code",
   "execution_count": 13,
   "metadata": {},
   "outputs": [
    {
     "data": {
      "text/plain": [
       "bool"
      ]
     },
     "execution_count": 13,
     "metadata": {},
     "output_type": "execute_result"
    }
   ],
   "source": [
    "# Exemplo 9\n",
    "b_2 = False\n",
    "type(b_2)"
   ]
  },
  {
   "cell_type": "markdown",
   "metadata": {},
   "source": [
    "Salvei em `b_1` e `b_2` os valores `True` e `False`, respectivamente. Usando a função `type`, retorna-se que o tipo é `bool`, isto é, variáveis são do tipo *booleana*. "
   ]
  },
  {
   "cell_type": "markdown",
   "metadata": {},
   "source": [
    "### 3.4 Observações \n",
    "\n",
    "Durante esse capítulo, declaramos diversas variáveis (salvamos diversos valores em diferentes nomes). Será que há alguma maneira de saber todas as variáveis e seus tipos de uma vez só? A resposta é sim! Para isso, usamos o comando `%whos`. Veja o resultado dele abaixo:"
   ]
  },
  {
   "cell_type": "code",
   "execution_count": 14,
   "metadata": {},
   "outputs": [
    {
     "name": "stdout",
     "output_type": "stream",
     "text": [
      "Variable   Type     Data/Info\n",
      "-----------------------------\n",
      "b_1        bool     True\n",
      "b_2        bool     False\n",
      "t          float    10.0\n",
      "texto_1    str      Hello, World!\n",
      "texto_2    str      Os autores dessa apostila<...>e L., Henrique W. e Paulo\n",
      "w          int      200\n",
      "x          int      10\n",
      "y          str      Estou aprendendo Python\n",
      "z          float    16.5\n"
     ]
    }
   ],
   "source": [
    "%whos"
   ]
  },
  {
   "cell_type": "markdown",
   "metadata": {},
   "source": [
    "Todas as variáveis são mostradas na tabela gerada por esse comando. Na primeira coluna, aparecem os nomes das variáveis. Na segunda, o tipo de cada variável. Na terceira coluna, são apresentadas as informações que salvamos nessas variáveis.\n",
    "\n",
    "Por fim, suponha que queremos excluir uma variável. Vamos excluir a variável `texto_2`. Para isso, usamos o comando `del` (*delete*, em inglês; *deletar*, em português). Temos:"
   ]
  },
  {
   "cell_type": "code",
   "execution_count": 15,
   "metadata": {},
   "outputs": [],
   "source": [
    "del(texto_2)"
   ]
  },
  {
   "cell_type": "markdown",
   "metadata": {},
   "source": [
    "Se usarmos o comando `%whos`, vemos que essa varíavel não faz mais parte das variáveis salvas. Veja:"
   ]
  },
  {
   "cell_type": "code",
   "execution_count": 16,
   "metadata": {
    "scrolled": true
   },
   "outputs": [
    {
     "name": "stdout",
     "output_type": "stream",
     "text": [
      "Variable   Type     Data/Info\n",
      "-----------------------------\n",
      "b_1        bool     True\n",
      "b_2        bool     False\n",
      "t          float    10.0\n",
      "texto_1    str      Hello, World!\n",
      "w          int      200\n",
      "x          int      10\n",
      "y          str      Estou aprendendo Python\n",
      "z          float    16.5\n"
     ]
    }
   ],
   "source": [
    "%whos"
   ]
  },
  {
   "cell_type": "markdown",
   "metadata": {},
   "source": [
    "É possível deletar várias variáveis ao mesmo tempo, por exemplo: "
   ]
  },
  {
   "cell_type": "code",
   "execution_count": 17,
   "metadata": {},
   "outputs": [],
   "source": [
    "del(t, w, x, y, z)"
   ]
  },
  {
   "cell_type": "markdown",
   "metadata": {},
   "source": [
    "Se eu usar o comando `%whos` novamente, veremos que essas variáveis foram excluídas:"
   ]
  },
  {
   "cell_type": "code",
   "execution_count": 18,
   "metadata": {
    "scrolled": true
   },
   "outputs": [
    {
     "name": "stdout",
     "output_type": "stream",
     "text": [
      "Variable   Type    Data/Info\n",
      "----------------------------\n",
      "b_1        bool    True\n",
      "b_2        bool    False\n",
      "texto_1    str     Hello, World!\n"
     ]
    }
   ],
   "source": [
    "%whos"
   ]
  },
  {
   "cell_type": "markdown",
   "metadata": {},
   "source": [
    "**Exercícios**\n",
    "\n",
    "1. Refaça os exemplos do Capítulo 2, dizendo quais os tipos das variáveis de entrada e saída (`int`, `float` ou `str`)\n",
    "2. Refaça os exercícios do Capítulo 2, dizendo quais os tipos das variáveis de entrada e saída (`int`, `float` ou `str`)\n",
    "3. Escreva a sua altura, em metros e em centímetros. Use `type` para saber quais são os tipos de cada varíavel.\n",
    "4. No Exercício 2, do Capítulo 2, você foi ao restaurante e pediu alguns pratos. Nesse dia, você fez três pedidos: salada, estrogonofe acompanhado de arroz e sorvete de creme. Salve esses pratos em três variáveis. Use `type` para mostrar o tipo de cada variável. \n",
    "5. Pense em todas as variáveis que você criou ao longo dos exercícios. Use o comando `%whos` e comente. \n",
    "6. Você salvou sua altura tanto em *cm* como em *m* no Exercício 3. As duas informações representam a mesma coisa. Exclua uma delas.\n",
    "\n",
    "## 4. Listas\n",
    "\n",
    "A fazer\n",
    "\n",
    "## 5. Comando *input*\n",
    "\n",
    "O comando `input` será muito utilizado na resolução dos problemas propostos pela OBI. Ele será utilizado pelo *juiz digital* que vai inserir valores (as chamadas variáveis de entrada), para que o seu programa realize as operações necessárias para gerar a saída correta (o *juiz* é quem realizará testes com seu código e irá julgá-lo correto ou incorreto).\n",
    "\n",
    "Ou seja, `input` é o comando que permitirá o *juiz digital* inserir a variável de entrada do seu programa. A partir dessa entrada, o seu código será rodado e gerará uma saída (aprederemos sobre a saída no próximo capítulo). Com várias simulações, o *juiz* determinará se seu programa está retornando a saída correta ou não. \n",
    "\n",
    "Sabendo disso, vamos aprender a utilizá-lo.\n",
    "\n",
    "### 5.1 Retomando os conceitos\n",
    "\n",
    "Em capítulos anteriores você aprendeu que, se escrevesse `X = 10`, o valor 10 ficaria armazenado na variável `X`.\n"
   ]
  },
  {
   "cell_type": "code",
   "execution_count": 9,
   "metadata": {},
   "outputs": [],
   "source": [
    "X = 10"
   ]
  },
  {
   "cell_type": "code",
   "execution_count": 10,
   "metadata": {},
   "outputs": [
    {
     "data": {
      "text/plain": [
       "10"
      ]
     },
     "execution_count": 10,
     "metadata": {},
     "output_type": "execute_result"
    }
   ],
   "source": [
    "X"
   ]
  },
  {
   "cell_type": "code",
   "execution_count": 11,
   "metadata": {},
   "outputs": [
    {
     "data": {
      "text/plain": [
       "int"
      ]
     },
     "execution_count": 11,
     "metadata": {},
     "output_type": "execute_result"
    }
   ],
   "source": [
    "type(X)"
   ]
  },
  {
   "cell_type": "markdown",
   "metadata": {},
   "source": [
    "Essa é uma forma em nós determinarmos o valor de `X`. Porém, há outra maneira de se fazer isso e é por meio do comando `input`.\n",
    "\n",
    "### 5.2 Utilizando o comando\n",
    "\n",
    "Quando quem define o valor da variável não é você, o que se deve fazer é digitar `X = input()` e isso significa que tudo que for digitado nessa linha do programa (dentro do `input`) será armazenado, em forma de `str`, dentro da variável."
   ]
  },
  {
   "cell_type": "code",
   "execution_count": 38,
   "metadata": {},
   "outputs": [
    {
     "name": "stdout",
     "output_type": "stream",
     "text": [
      "10\n"
     ]
    }
   ],
   "source": [
    "Y = input()"
   ]
  },
  {
   "cell_type": "markdown",
   "metadata": {},
   "source": [
    "**Observação importante**: após dar *run* (rodar) no código, uma \"janelinha\" aparecerá para você digitar o que ficará salvo na variável. No caso, foi escrito \"10\". Ainda:"
   ]
  },
  {
   "cell_type": "code",
   "execution_count": 13,
   "metadata": {},
   "outputs": [
    {
     "data": {
      "text/plain": [
       "'10'"
      ]
     },
     "execution_count": 13,
     "metadata": {},
     "output_type": "execute_result"
    }
   ],
   "source": [
    "Y"
   ]
  },
  {
   "cell_type": "code",
   "execution_count": 14,
   "metadata": {},
   "outputs": [
    {
     "data": {
      "text/plain": [
       "str"
      ]
     },
     "execution_count": 14,
     "metadata": {},
     "output_type": "execute_result"
    }
   ],
   "source": [
    "type(Y)"
   ]
  },
  {
   "cell_type": "markdown",
   "metadata": {},
   "source": [
    "Como esperado, `Y` recebeu o valor '10' e seu tipo é `str`. Repare que `Y` recebe 10, mas está na forma de *string*. Isto é, o `Python` lê o 10 como se fosse uma palavra. Contudo, gostaríamos de trabalhar com o número 10, o que nos permitirá realizar contas com essa variável.\n",
    "\n",
    "### 5.3 Transformando a variável em inteiro\n",
    "\n",
    "Na OBI o `input` é frequentemente utilizado para armazenar valores númericos, e para fazer isso você pode seguir dois caminhos (que na verdade é um só). Vamos salvar o valor 10 na variável `V`:\n"
   ]
  },
  {
   "cell_type": "code",
   "execution_count": 15,
   "metadata": {},
   "outputs": [
    {
     "name": "stdout",
     "output_type": "stream",
     "text": [
      "10\n"
     ]
    }
   ],
   "source": [
    "V = input()"
   ]
  },
  {
   "cell_type": "markdown",
   "metadata": {},
   "source": [
    "Como sabemos, o `V` é equivalente à *string* '10'. Vamos transformá-lo em inteiro. Para isso, usamos o comando `int`. "
   ]
  },
  {
   "cell_type": "code",
   "execution_count": 17,
   "metadata": {},
   "outputs": [],
   "source": [
    "V = int(V)"
   ]
  },
  {
   "cell_type": "markdown",
   "metadata": {},
   "source": [
    "Essa última linha significa basicamente que \"V assumirá o valor inteiro de V\". Conferindo:"
   ]
  },
  {
   "cell_type": "code",
   "execution_count": 18,
   "metadata": {},
   "outputs": [
    {
     "data": {
      "text/plain": [
       "10"
      ]
     },
     "execution_count": 18,
     "metadata": {},
     "output_type": "execute_result"
    }
   ],
   "source": [
    "V"
   ]
  },
  {
   "cell_type": "code",
   "execution_count": 19,
   "metadata": {},
   "outputs": [
    {
     "data": {
      "text/plain": [
       "int"
      ]
     },
     "execution_count": 19,
     "metadata": {},
     "output_type": "execute_result"
    }
   ],
   "source": [
    "type(V)"
   ]
  },
  {
   "cell_type": "markdown",
   "metadata": {},
   "source": [
    "Isso poderá ser feito desde que a *string* armazenada no `input` possa ser transformada em um inteiro, ou seja, se fosse realmente um texto como \"Olá\", o comando \"V = int(V)\" resultaria em um erro. Tente fazer e confira.\n",
    "\n",
    "### 5.4 Um atalho para transformar a variável em inteiro\n",
    "\n",
    "A outra forma de transformar o `input` em inteiro, é \"embutindo\" o `int` junto ao `input`."
   ]
  },
  {
   "cell_type": "code",
   "execution_count": 20,
   "metadata": {},
   "outputs": [
    {
     "name": "stdout",
     "output_type": "stream",
     "text": [
      "10\n"
     ]
    }
   ],
   "source": [
    "C = int(input())"
   ]
  },
  {
   "cell_type": "markdown",
   "metadata": {},
   "source": [
    "Dessa forma, o valor inserido será automaticamente transformado em um valor inteiro."
   ]
  },
  {
   "cell_type": "code",
   "execution_count": 21,
   "metadata": {},
   "outputs": [
    {
     "data": {
      "text/plain": [
       "10"
      ]
     },
     "execution_count": 21,
     "metadata": {},
     "output_type": "execute_result"
    }
   ],
   "source": [
    "C"
   ]
  },
  {
   "cell_type": "code",
   "execution_count": 22,
   "metadata": {},
   "outputs": [
    {
     "data": {
      "text/plain": [
       "int"
      ]
     },
     "execution_count": 22,
     "metadata": {},
     "output_type": "execute_result"
    }
   ],
   "source": [
    "type(C)"
   ]
  },
  {
   "cell_type": "markdown",
   "metadata": {},
   "source": [
    "E isso vale para todos os outros tipos de variável que vocês aprenderam no Capítulo 3.\n",
    "\n",
    "### 5.5 Atribuindo valores para várias variáveis\n",
    "\n",
    "Você também pode adicionar diferentes valores, para diferentes variáveis em linhas separadas ou na mesma linha. Para linhas separadas, faríamos dessa forma:"
   ]
  },
  {
   "cell_type": "code",
   "execution_count": 23,
   "metadata": {},
   "outputs": [
    {
     "name": "stdout",
     "output_type": "stream",
     "text": [
      "5\n",
      "5\n",
      "5\n"
     ]
    }
   ],
   "source": [
    "Q = input()\n",
    "W = int(input())\n",
    "E = float(input())"
   ]
  },
  {
   "cell_type": "code",
   "execution_count": 24,
   "metadata": {},
   "outputs": [
    {
     "data": {
      "text/plain": [
       "('5', 5, 5.0)"
      ]
     },
     "execution_count": 24,
     "metadata": {},
     "output_type": "execute_result"
    }
   ],
   "source": [
    "Q, W, E"
   ]
  },
  {
   "cell_type": "markdown",
   "metadata": {},
   "source": [
    "Mas para poder salvar tudo em uma linha só (como as vezes é pedido na OBI), você utiliza o comando `input` e após os parênteses adiciona `.split()`.\n",
    "\n",
    "Você (ou o *juiz*) adicionará as variáveis de entrada separadas por um espaço único. Vale ressaltar que todos os itens são salvos como *string* e precisam ser transformados posteriormente."
   ]
  },
  {
   "cell_type": "code",
   "execution_count": 25,
   "metadata": {},
   "outputs": [
    {
     "name": "stdout",
     "output_type": "stream",
     "text": [
      "5 5 5\n"
     ]
    }
   ],
   "source": [
    "R, T, F = input().split()"
   ]
  },
  {
   "cell_type": "code",
   "execution_count": 26,
   "metadata": {},
   "outputs": [
    {
     "data": {
      "text/plain": [
       "('5', '5', '5')"
      ]
     },
     "execution_count": 26,
     "metadata": {},
     "output_type": "execute_result"
    }
   ],
   "source": [
    "R, T, F"
   ]
  },
  {
   "cell_type": "markdown",
   "metadata": {},
   "source": [
    "Vamos deixá-los igual à lista anterior, uma `str`, um `int` e um `float`. Note que não será necessário transformar a variável `R` pois ela já é uma *string*.\n"
   ]
  },
  {
   "cell_type": "code",
   "execution_count": 27,
   "metadata": {},
   "outputs": [],
   "source": [
    "T = int(T)\n",
    "F = float(F)"
   ]
  },
  {
   "cell_type": "code",
   "execution_count": 28,
   "metadata": {},
   "outputs": [
    {
     "data": {
      "text/plain": [
       "('5', 5, 5.0)"
      ]
     },
     "execution_count": 28,
     "metadata": {},
     "output_type": "execute_result"
    }
   ],
   "source": [
    "R, T, F"
   ]
  },
  {
   "cell_type": "markdown",
   "metadata": {},
   "source": [
    "### 5.6 Lista em uma variável só\n",
    "\n",
    "Você também pode combinar o `input` e o `split` para criar uma lista dentro de uma única variável. Tudo que você escrever (pulando um espaço entre um e outro) ficará salvo em uma lista (formato `list`) com vários itens no formato de `str`."
   ]
  },
  {
   "cell_type": "code",
   "execution_count": 29,
   "metadata": {},
   "outputs": [
    {
     "name": "stdout",
     "output_type": "stream",
     "text": [
      "7 2 Olá OBI\n"
     ]
    }
   ],
   "source": [
    "H = input().split()"
   ]
  },
  {
   "cell_type": "code",
   "execution_count": 31,
   "metadata": {},
   "outputs": [
    {
     "data": {
      "text/plain": [
       "['7', '2', 'Olá', 'OBI']"
      ]
     },
     "execution_count": 31,
     "metadata": {},
     "output_type": "execute_result"
    }
   ],
   "source": [
    "H"
   ]
  },
  {
   "cell_type": "code",
   "execution_count": 30,
   "metadata": {},
   "outputs": [
    {
     "data": {
      "text/plain": [
       "list"
      ]
     },
     "execution_count": 30,
     "metadata": {},
     "output_type": "execute_result"
    }
   ],
   "source": [
    "type(H)"
   ]
  },
  {
   "cell_type": "markdown",
   "metadata": {},
   "source": [
    "**Observação**: Se essa lista for composta somente de números (inteiros ou `float`), é possível transformá-los em números ao invés de *strings*. Mas isso é assunto para um outro capítulo. Por enquanto, deixaremos o exemplo abaixo de como isso pode ser feito."
   ]
  },
  {
   "cell_type": "code",
   "execution_count": 32,
   "metadata": {},
   "outputs": [
    {
     "name": "stdout",
     "output_type": "stream",
     "text": [
      "7 8 5 1 3 4\n"
     ]
    }
   ],
   "source": [
    "G = input().split()"
   ]
  },
  {
   "cell_type": "code",
   "execution_count": 33,
   "metadata": {},
   "outputs": [
    {
     "data": {
      "text/plain": [
       "['7', '8', '5', '1', '3', '4']"
      ]
     },
     "execution_count": 33,
     "metadata": {},
     "output_type": "execute_result"
    }
   ],
   "source": [
    "G"
   ]
  },
  {
   "cell_type": "code",
   "execution_count": 34,
   "metadata": {},
   "outputs": [],
   "source": [
    "for i in range(len(G)):\n",
    "    G[i] = int(G[i])"
   ]
  },
  {
   "cell_type": "code",
   "execution_count": 35,
   "metadata": {},
   "outputs": [
    {
     "data": {
      "text/plain": [
       "[7, 8, 5, 1, 3, 4]"
      ]
     },
     "execution_count": 35,
     "metadata": {},
     "output_type": "execute_result"
    }
   ],
   "source": [
    "G"
   ]
  },
  {
   "cell_type": "markdown",
   "metadata": {},
   "source": [
    "Agora todos os itens da lista são números inteiros.\n",
    "\n",
    "### 5.7 Relatório das variáveis \n",
    "\n",
    "Abaixo, usando o comando `%whos`, vemos todas as variáveis criadas até esse momento. \n"
   ]
  },
  {
   "cell_type": "code",
   "execution_count": 36,
   "metadata": {
    "scrolled": true
   },
   "outputs": [
    {
     "name": "stdout",
     "output_type": "stream",
     "text": [
      "Variable   Type     Data/Info\n",
      "-----------------------------\n",
      "C          int      10\n",
      "E          float    5.0\n",
      "F          float    5.0\n",
      "G          list     n=6\n",
      "H          list     n=4\n",
      "Q          str      5\n",
      "R          str      5\n",
      "T          int      5\n",
      "V          int      10\n",
      "W          int      5\n",
      "X          int      10\n",
      "Y          str      10\n",
      "i          int      5\n"
     ]
    }
   ],
   "source": [
    "%whos"
   ]
  },
  {
   "cell_type": "markdown",
   "metadata": {},
   "source": [
    "**Exercícios**\n",
    "\n",
    "1. Crie uma variável X e, através do comando `input`, dê a ela o seguinte texto \"Olá, medalhista!\". Exiba essa mensagem. \n",
    "2. Crie uma sequência de variáveis e dê a elas, através do `input`, a idade dos integrantes de sua família.\n",
    "3. Converta as idades do exercício 2 para números inteiros.\n",
    "4. Cria uma variável Y e, através do `input`, declare a sua altura em centímetros. Esse número será inteiro ou `float`?\n",
    "5. Converta essa variável Y para `float`.\n",
    "\n",
    "##  6. Comando *print*\n",
    "\n",
    "Algumas operações matemáticas vão aparecer ao longo desse capítulo para enriquecer o estudo desse comando. São operações básicas e possuem uma escrita intuitiva. Os próximos dois capítulos focarão em operações matemáticas. Para esse capitúlo, as operações que aparecerão são: adição (`+`), subtração (`-`) e divisão (`/`).\n",
    "\n",
    "O comado `print` tem como função básica imprimir uma mensagem de sua escolha para o terminal (onde o código roda). Normalmente é muito utilizado em sites para exibir mensagens específicas e, na OBI, será utilizado para exibir os resultados finais: a variável de saída. Para testar o comando `print` basta digitar o seguinte comando:"
   ]
  },
  {
   "cell_type": "code",
   "execution_count": 1,
   "metadata": {},
   "outputs": [
    {
     "name": "stdout",
     "output_type": "stream",
     "text": [
      "\n"
     ]
    }
   ],
   "source": [
    "print()"
   ]
  },
  {
   "cell_type": "markdown",
   "metadata": {},
   "source": [
    "Perceba que nada apareceu, pois nada foi escrito entre os parênteses. Vamos escrever uma mensagem."
   ]
  },
  {
   "cell_type": "code",
   "execution_count": 3,
   "metadata": {},
   "outputs": [
    {
     "name": "stdout",
     "output_type": "stream",
     "text": [
      "Olá, tudo bem?\n"
     ]
    }
   ],
   "source": [
    "print('Olá, tudo bem?')"
   ]
  },
  {
   "cell_type": "markdown",
   "metadata": {},
   "source": [
    "E, ao executar o comando, o que foi escrito dentro do parênteses será exibido na saída do código. A mensagem deve ser escrita entre aspas (simples ', ou duplas \") quando se quer exibir uma mensagem *string* e não um valor inteiro ou `float`. Mas escrever números entre aspas ou não, não interfere no funcionamento do código."
   ]
  },
  {
   "cell_type": "code",
   "execution_count": 4,
   "metadata": {},
   "outputs": [
    {
     "name": "stdout",
     "output_type": "stream",
     "text": [
      "11\n"
     ]
    }
   ],
   "source": [
    "print(11)"
   ]
  },
  {
   "cell_type": "code",
   "execution_count": 5,
   "metadata": {},
   "outputs": [
    {
     "name": "stdout",
     "output_type": "stream",
     "text": [
      "Eu tenho 11 cachorros\n"
     ]
    }
   ],
   "source": [
    "print(\"Eu tenho 11 cachorros\")"
   ]
  },
  {
   "cell_type": "markdown",
   "metadata": {},
   "source": [
    "Repare que \"Eu tenho 11 cachorros\" aparece como um texto. Caso a mensagem tivesse sido escrita sem aspas, o `Python` indicaria um erro em seu código, pois variável do tipo *string* sempre deve aparecer entre aspas. Uma segunda opção útil é:"
   ]
  },
  {
   "cell_type": "code",
   "execution_count": 6,
   "metadata": {},
   "outputs": [
    {
     "name": "stdout",
     "output_type": "stream",
     "text": [
      "Eu tenho 11 cachorros\n"
     ]
    }
   ],
   "source": [
    "print(\"Eu tenho\", 11,'cachorros')"
   ]
  },
  {
   "cell_type": "markdown",
   "metadata": {},
   "source": [
    "Essa segunda opção pode ser mais utilizada em casos de você ter uma variável `X` (que você não sabe o valor), e ter que inseri-la na resposta final do programa. Veja:"
   ]
  },
  {
   "cell_type": "code",
   "execution_count": 7,
   "metadata": {},
   "outputs": [
    {
     "name": "stdout",
     "output_type": "stream",
     "text": [
      "15\n",
      "Eu tenho 15 anos\n"
     ]
    }
   ],
   "source": [
    "X = input()\n",
    "print(\"Eu tenho\", X, \"anos\")"
   ]
  },
  {
   "cell_type": "code",
   "execution_count": 8,
   "metadata": {},
   "outputs": [
    {
     "data": {
      "text/plain": [
       "str"
      ]
     },
     "execution_count": 8,
     "metadata": {},
     "output_type": "execute_result"
    }
   ],
   "source": [
    "type(X)"
   ]
  },
  {
   "cell_type": "markdown",
   "metadata": {},
   "source": [
    "Na primeira linha foi inserida a idade de um dos autores dessa apostila e, na segunda, o programa utilizou essa informação que estava armazenada na variável `X` para mostrar a mensagem final. Observação: repare que o 15 não precisa ser um número inteiro para ser mostrado como 15 na resposta.\n",
    "\n",
    "Mas no caso da OBI, o mais comum é você, ao longo do seu programa, resolver o problema e salvar a resposta numa variável que terá que ser *printada* ao fim do programa. Segue um exemplo bem simples de soma."
   ]
  },
  {
   "cell_type": "code",
   "execution_count": 9,
   "metadata": {},
   "outputs": [
    {
     "name": "stdout",
     "output_type": "stream",
     "text": [
      "10\n",
      "15\n",
      "25\n"
     ]
    }
   ],
   "source": [
    "C = int(input())\n",
    "Y = int(input())\n",
    "print(C+Y)"
   ]
  },
  {
   "cell_type": "markdown",
   "metadata": {},
   "source": [
    "Repare que, na primeira e segunda linhas, eu utilizei o `input` para poder digitar os números que eu quisesse que fossem somados e, na terceira linha, eu *printei* o resultado da soma C + Y.\n",
    "\n",
    "### 6.1 Método *format* (extra: não muito utilizado na OBI)\n",
    "\n",
    "O método `format` tem como função criar uma *string* que contém campos entre chaves que são substituídos pelos argumentos de `format`. Veja o exemplo abaixo.\n"
   ]
  },
  {
   "cell_type": "code",
   "execution_count": 13,
   "metadata": {},
   "outputs": [
    {
     "data": {
      "text/plain": [
       "'O Joaquim tem 20 anos'"
      ]
     },
     "execution_count": 13,
     "metadata": {},
     "output_type": "execute_result"
    }
   ],
   "source": [
    "Z = \"O {0} tem {1} anos\"\n",
    "Z.format(\"Joaquim\",\"20\")"
   ]
  },
  {
   "cell_type": "code",
   "execution_count": 14,
   "metadata": {},
   "outputs": [
    {
     "data": {
      "text/plain": [
       "str"
      ]
     },
     "execution_count": 14,
     "metadata": {},
     "output_type": "execute_result"
    }
   ],
   "source": [
    "type(Z)"
   ]
  },
  {
   "cell_type": "markdown",
   "metadata": {},
   "source": [
    "Nos campos de substituição podemos notar um padrão. A contagem dos itens de uma lista, ou de uma *string*, começam a partir de 0 e vão até o infinito. Observação: não existe uma limitação de repetição do uso do mesmo parâmetro em uma mesma *string*. Exemplo:"
   ]
  },
  {
   "cell_type": "code",
   "execution_count": 15,
   "metadata": {},
   "outputs": [
    {
     "data": {
      "text/plain": [
       "'Um por todos e todos por Um!'"
      ]
     },
     "execution_count": 15,
     "metadata": {},
     "output_type": "execute_result"
    }
   ],
   "source": [
    "G = \"{0} por {1} e {1} por {0}!\"\n",
    "G.format(\"Um\", \"todos\")"
   ]
  },
  {
   "cell_type": "code",
   "execution_count": 16,
   "metadata": {},
   "outputs": [
    {
     "name": "stdout",
     "output_type": "stream",
     "text": [
      "Progama para calcular o ano de nascimento de uma pessoa\n",
      "\n",
      "Entre com o nome da pessoa: Joaquim\n",
      "Entre com a idade da pessoa: 20\n",
      "Entre com ano atual: 2020\n",
      "Joaquim nasceu em 2000\n"
     ]
    }
   ],
   "source": [
    "print('Progama para calcular o ano de nascimento de uma pessoa')\n",
    "print()\n",
    "\n",
    "nome = input('Entre com o nome da pessoa: ')\n",
    "\n",
    "a1 = int(input('Entre com a idade da pessoa: '))\n",
    "\n",
    "a2 = int(input('Entre com ano atual: '))\n",
    "\n",
    "texto = '{0} nasceu em {ano}'\n",
    "print(texto.format(nome, ano = a2 - a1 ))"
   ]
  },
  {
   "cell_type": "markdown",
   "metadata": {},
   "source": [
    "Aqui inserimos alguns textos dentro do `input`, mas o que conta realmente é o que foi inserido após esse texto."
   ]
  },
  {
   "cell_type": "code",
   "execution_count": 17,
   "metadata": {},
   "outputs": [
    {
     "data": {
      "text/plain": [
       "'Joaquim'"
      ]
     },
     "execution_count": 17,
     "metadata": {},
     "output_type": "execute_result"
    }
   ],
   "source": [
    "nome"
   ]
  },
  {
   "cell_type": "markdown",
   "metadata": {},
   "source": [
    "Ao final do código eu utilizei o `format` para modificar a varíavel `texto`, inserindo no lugar de `{0}` a variável `nome` e utilizando a variável `{ano}` como uma conta de subtração.\n",
    "\n",
    "### 6.2 Usando *format* com *strings*\n",
    "\n",
    "Mas é claro que pra toda teoria se tem algumas regras e aqui vai uma importante para especificar formatações númericas ou para *strings*:\n",
    "\n",
    "A base do comando: :[preencher][alinhar][largura].[precisão]\n",
    "\n",
    "1. Preencher é qualquer caractere, frase ou número em geral e de sua escolha para preencher o espaço em branco do texto;\n",
    "\n",
    "2. Alinhar é o posicionamente do seu texto;\n",
    "\n",
    "3. Largura é a distância que o seu texto vai ficar da margem (Contando da margem até a ultima letra do texto);\n",
    "\n",
    "4. Precisão é a quantidade de caracteres que seu texto irá exibir.\n",
    "\n",
    "\n",
    "|     Preencher              |      Alinhar   | Largura | Precisão |\n",
    "|----------------------------|----------------|---------|----------|\n",
    "|     Qualquer caractere     |  < (Esquerda)  |  Largura mínima do campo | Largura máxima do campo |\n",
    "|                            |   > (Direita)  |         |          |\n",
    "|                            |    ^ (Centro)⠀ |         |          |\n",
    "\n",
    "\n",
    "Abaixo podemos ver um exemplo desse comando funcionando:"
   ]
  },
  {
   "cell_type": "code",
   "execution_count": 18,
   "metadata": {},
   "outputs": [
    {
     "name": "stdout",
     "output_type": "stream",
     "text": [
      "#####################Cactus\n",
      "              Cactus\n",
      "       Cactus       \n",
      "Cact\n"
     ]
    }
   ],
   "source": [
    "s = 'Cactus'\n",
    "\n",
    "print(\"{0:#>27}\".format(s))\n",
    "\n",
    "print(\"{0:>20}\".format(s))\n",
    "\n",
    "print(\"{0:^20}\".format(s))\n",
    "\n",
    "print(\"{0:.4}\".format(s))"
   ]
  },
  {
   "cell_type": "markdown",
   "metadata": {},
   "source": [
    "### 6.3 Usando format com números (extra)\n",
    "\n",
    "Agora veremos como o format trabalha com números. A base de comando é igual a anterior. Segue um exemplo:\n"
   ]
  },
  {
   "cell_type": "code",
   "execution_count": 19,
   "metadata": {},
   "outputs": [
    {
     "name": "stdout",
     "output_type": "stream",
     "text": [
      "Programa para calcular a media de um aluno\n",
      "\n",
      "Entre com o nome do aluno:Joaquim\n",
      "Entre com a primeira nota:9\n",
      "Entre com a segunda nota:6\n",
      "Joaquim teve media igual a: 7.50\n"
     ]
    }
   ],
   "source": [
    "print(\"Programa para calcular a media de um aluno\")\n",
    "print()\n",
    "\n",
    "nome = input(\"Entre com o nome do aluno:\")\n",
    "\n",
    "nota1 = int(input(\"Entre com a primeira nota:\"))\n",
    "\n",
    "nota2 = int(input(\"Entre com a segunda nota:\"))\n",
    "\n",
    "media = (nota1 + nota2)/2\n",
    "print(\"{0} teve media igual a: {1:4.2f}\".format(nome, media))"
   ]
  },
  {
   "cell_type": "markdown",
   "metadata": {},
   "source": [
    "### 6.4 Relatório das variáveis"
   ]
  },
  {
   "cell_type": "code",
   "execution_count": 20,
   "metadata": {},
   "outputs": [
    {
     "name": "stdout",
     "output_type": "stream",
     "text": [
      "Variable   Type     Data/Info\n",
      "-----------------------------\n",
      "C          int      10\n",
      "G          str      {0} por {1} e {1} por {0}!\n",
      "X          str      15\n",
      "Y          int      15\n",
      "Z          str      O {0} tem {1} anos\n",
      "a1         int      20\n",
      "a2         int      2020\n",
      "media      float    7.5\n",
      "nome       str      Joaquim\n",
      "nota1      int      9\n",
      "nota2      int      6\n",
      "s          str      Cactus\n",
      "texto      str      {0} nasceu em {ano}\n"
     ]
    }
   ],
   "source": [
    "%whos"
   ]
  },
  {
   "cell_type": "markdown",
   "metadata": {},
   "source": [
    "**Exercícios**\n",
    "\n",
    "1. Converta as seguintes temperaturas de Celcius para Fahrenheit. Dado que: $F = \\dfrac{9C}{5} + 32$\n",
    "\n",
    "| Celsius (C) | Fahrenheit (F)   |\n",
    "|-------------|------------------|\n",
    "|     12°     |                  |\n",
    "|     24°     |                  |\n",
    "|      1°     |                  |\n",
    "|     19°     |                  |\n",
    "\n",
    "\n",
    "2. Faça um programa que leia dois números reais A e B digitados pelo teclado e usando o comando `print` imprima a divisão de A por B.\n",
    "\n",
    "3. A partir desse código: *num = int(input(\"Digite um número:\"))*, construa um programa que leia um número inteiro qualquer e mostre no terminal sua tabuada. (Até o x10)\n",
    "\n",
    "\n",
    "## 7. Operadoes aritméticos \n",
    "\n",
    "Já vimos os tipos de variáveis existentes no `Python`, como recebê-las e como armazená-las, agora é preciso aprender como operar tudo isso, utilizando o que chamamos de operadores aritméticos.\n",
    "\n",
    "### 7.1 Soma e multiplicação\n",
    "\n",
    "Para somar dois valores, assim como é feito no dia a dia, vamos utilizar o sinal `+` e para multiplicar o sinal `*` (asterisco). Não há muito mistério por aqui, é quase como usar uma calculadora. Veja os exemplos abaixo para entender melhor:\n"
   ]
  },
  {
   "cell_type": "code",
   "execution_count": 1,
   "metadata": {},
   "outputs": [
    {
     "data": {
      "text/plain": [
       "11"
      ]
     },
     "execution_count": 1,
     "metadata": {},
     "output_type": "execute_result"
    }
   ],
   "source": [
    "# exemplo 1\n",
    "a = 5\n",
    "b = 6\n",
    "a+b"
   ]
  },
  {
   "cell_type": "markdown",
   "metadata": {},
   "source": [
    "Na primeira linha é definido um valor para a variável `a`, 5, e na segunda linha é definido que a variável `b` possui valor 6. Por fim é executado um comando que irá retornar o valor de a + b para nós, ou seja, 11."
   ]
  },
  {
   "cell_type": "code",
   "execution_count": 2,
   "metadata": {},
   "outputs": [
    {
     "data": {
      "text/plain": [
       "30"
      ]
     },
     "execution_count": 2,
     "metadata": {},
     "output_type": "execute_result"
    }
   ],
   "source": [
    "# exemplo 2\n",
    "a = 5\n",
    "b = 6\n",
    "a*b"
   ]
  },
  {
   "cell_type": "markdown",
   "metadata": {},
   "source": [
    "Nas primeiras linhas as variáveis `a` e `b` continuam com o valor 5 e 6, porém ao invés do sinal de `+` agora há o sinal `*`, que multiplica o 5 com 6, e por isso recebemos de saída o número 30."
   ]
  },
  {
   "cell_type": "code",
   "execution_count": 3,
   "metadata": {},
   "outputs": [
    {
     "name": "stdout",
     "output_type": "stream",
     "text": [
      "5\n",
      "6\n"
     ]
    },
    {
     "data": {
      "text/plain": [
       "'56'"
      ]
     },
     "execution_count": 3,
     "metadata": {},
     "output_type": "execute_result"
    }
   ],
   "source": [
    "# exemplo 3\n",
    "a = input()\n",
    "b = input()\n",
    "a+b"
   ]
  },
  {
   "cell_type": "markdown",
   "metadata": {},
   "source": [
    "No Exemplo 3 é pedido para que quem for executar o código coloque dois números aleatórios para que a soma seja realizada. Assim, é colocado novamente os números 5 e 6, entretanto, a soma dessa vez resultou em 56, mas por que isso acontece?\n",
    "\n",
    "Simples! Como abordado no Capítulo 5, quando um `input` é declarado a variável em que ele está contida por padrão adquire o valor de *string*, ou seja, em `Python` é possível não somente fazer soma com valores numéricos, mas também com textos (veremos isso adiante) . Por isso, é necessário adicionar o comando `int` ou `float` junto ao `input`:"
   ]
  },
  {
   "cell_type": "code",
   "execution_count": 4,
   "metadata": {},
   "outputs": [
    {
     "name": "stdout",
     "output_type": "stream",
     "text": [
      "5\n",
      "6\n"
     ]
    },
    {
     "data": {
      "text/plain": [
       "11.0"
      ]
     },
     "execution_count": 4,
     "metadata": {},
     "output_type": "execute_result"
    }
   ],
   "source": [
    "# exemplo 3.1\n",
    "a = int(input())\n",
    "b = float(input())\n",
    "a+b"
   ]
  },
  {
   "cell_type": "markdown",
   "metadata": {},
   "source": [
    "Agora com o comando `int` e `float` adicionados ao código chegamos ao resultado correto da soma de 5 com 6, cujo resultado é 11.\n",
    "\n",
    "Como vimos no Exemplo 3 também é possível fazer a soma de textos no nosso código. Para que isso aconteça basta colocar duas variáveis de valor *string* com o sinal de `+` entre elas. Veja este outro exemplo para entender melhor"
   ]
  },
  {
   "cell_type": "code",
   "execution_count": 5,
   "metadata": {},
   "outputs": [
    {
     "name": "stdout",
     "output_type": "stream",
     "text": [
      "Fulano\n",
      "Ciclano\n"
     ]
    },
    {
     "data": {
      "text/plain": [
       "'oi Fulano Ciclano'"
      ]
     },
     "execution_count": 5,
     "metadata": {},
     "output_type": "execute_result"
    }
   ],
   "source": [
    "# exemplo 4\n",
    "C = input()\n",
    "D = input()\n",
    "\"oi \" + C + \" \" + D"
   ]
  },
  {
   "cell_type": "markdown",
   "metadata": {},
   "source": [
    "Primeiro os dois `input` pedem que a pessoa coloque, respectivamente, o seu nome e sobrenome. Com esses valores guardados nas variáveis é escrito um \"oi \" + C + \" \" + D, ou seja, o programa junta as informações na ordem que você colocou, fazendo que tudo vire um texto só. Veja que há um \" \" vazio dentro do código, ele serve para adicionar um espaço entre as variáveis C e D. Caso ele não estivesse lá, elas sairiam grudadas.\n",
    "\n",
    "Assim como na soma também é possível operar *strings* com o sinal. Para isso basta colocar a variável seguida do símbolo e o número de vezes que você quer que ela apareça."
   ]
  },
  {
   "cell_type": "code",
   "execution_count": 6,
   "metadata": {},
   "outputs": [
    {
     "data": {
      "text/plain": [
       "'caicai balão caicai balão'"
      ]
     },
     "execution_count": 6,
     "metadata": {},
     "output_type": "execute_result"
    }
   ],
   "source": [
    "# exemplo 5\n",
    "E = \"cai\"\n",
    "E*2 + \" balão \" + E*2 + \" balão\""
   ]
  },
  {
   "cell_type": "markdown",
   "metadata": {},
   "source": [
    "Caso você queira colocar um espaço entre as *strings* multiplicadas basta fazer como uma distributiva:"
   ]
  },
  {
   "cell_type": "code",
   "execution_count": 7,
   "metadata": {},
   "outputs": [
    {
     "data": {
      "text/plain": [
       "'cai cai balão cai cai balão '"
      ]
     },
     "execution_count": 7,
     "metadata": {},
     "output_type": "execute_result"
    }
   ],
   "source": [
    "E = \"cai\"\n",
    "((E + \" \")*2 + \"balão \")*2"
   ]
  },
  {
   "cell_type": "markdown",
   "metadata": {},
   "source": [
    "### 7.2 Subtração e divisão \n",
    "\n",
    "A diferença da subtração e divisão para soma e multiplicação é que não é possível operar *strings* com elas. Já para realizar contas aritméticas o processo é o mesmo que o anterior, porém dessa vez com os símbolos `-` para subtração e `/` (barra) para divisão."
   ]
  },
  {
   "cell_type": "code",
   "execution_count": 8,
   "metadata": {},
   "outputs": [
    {
     "data": {
      "text/plain": [
       "12"
      ]
     },
     "execution_count": 8,
     "metadata": {},
     "output_type": "execute_result"
    }
   ],
   "source": [
    "# exemplo 6\n",
    "16-4"
   ]
  },
  {
   "cell_type": "code",
   "execution_count": 9,
   "metadata": {},
   "outputs": [
    {
     "data": {
      "text/plain": [
       "4.0"
      ]
     },
     "execution_count": 9,
     "metadata": {},
     "output_type": "execute_result"
    }
   ],
   "source": [
    "# exemplo 7\n",
    "16/4"
   ]
  },
  {
   "cell_type": "markdown",
   "metadata": {},
   "source": [
    "Outro símbolo interessante é o `%`, que ao contrário do que pode parecer não realiza porcentagens, mas sim nos dá o resto da divisão entre dois números."
   ]
  },
  {
   "cell_type": "code",
   "execution_count": 10,
   "metadata": {},
   "outputs": [
    {
     "data": {
      "text/plain": [
       "1"
      ]
     },
     "execution_count": 10,
     "metadata": {},
     "output_type": "execute_result"
    }
   ],
   "source": [
    "# exemplo 8\n",
    "5%2"
   ]
  },
  {
   "cell_type": "markdown",
   "metadata": {},
   "source": [
    "Caso não tenha entendido o funcionamento da `%` vamos olhar para o Exemplo 8 para tornar isso mais claro. Para dividirmos 5 por 2 precisamos chegar ao múltiplo de 2 mais próximo de 5, que é o 4. Então subtraímos o 4 do 5, resultando em 1. Assim temos a seguinte divisão: dividendo igual a 5, divisor igual 4, quociente igual a 2 e resto igual a 1. O que o simbolo `%` nos dá é exatamente esse resto. A princípio a utilidade deste símbolo pode parecer um tanto duvidosa, mas ele se mostra muito importante para exercicíos que envolvam divisibilidade, uma vez que, se um número for divisível pelo outro o resto será igual a 0."
   ]
  },
  {
   "cell_type": "code",
   "execution_count": 11,
   "metadata": {},
   "outputs": [
    {
     "data": {
      "text/plain": [
       "0"
      ]
     },
     "execution_count": 11,
     "metadata": {},
     "output_type": "execute_result"
    }
   ],
   "source": [
    "# exemplo 9\n",
    "927306309006312%3"
   ]
  },
  {
   "cell_type": "markdown",
   "metadata": {},
   "source": [
    "Também há o simbolo `//`, que nos dá a parte inteira da divisão, ou seja, o quoeficiente da divisão sem a parte decimal."
   ]
  },
  {
   "cell_type": "code",
   "execution_count": 12,
   "metadata": {},
   "outputs": [
    {
     "data": {
      "text/plain": [
       "2"
      ]
     },
     "execution_count": 12,
     "metadata": {},
     "output_type": "execute_result"
    }
   ],
   "source": [
    "5//2"
   ]
  },
  {
   "cell_type": "markdown",
   "metadata": {},
   "source": [
    "### 7.3 Potenciação e radiciação\n",
    "\n",
    "A potência segue exatamente o mesmo modo que os demais operadores, e dessa vez o símbolo é `**` (dois asteriscos)."
   ]
  },
  {
   "cell_type": "code",
   "execution_count": 13,
   "metadata": {},
   "outputs": [
    {
     "data": {
      "text/plain": [
       "1024"
      ]
     },
     "execution_count": 13,
     "metadata": {},
     "output_type": "execute_result"
    }
   ],
   "source": [
    "2**10"
   ]
  },
  {
   "cell_type": "markdown",
   "metadata": {},
   "source": [
    "Já com a radiciação o `Python` não possui um símbolo para realizar ela, por isso vamos ter que retomar uma das propriedades da potência, a Potência de Exponte Racional: $$a^{\\frac{m}{n}} = \\sqrt[n]{a^m}$$\n",
    "\n",
    "Aplicando a propriedade, se quiséssemos, por exemplo, chegar à raiz décima de 1024, teríamos que elevar esse número a 1 sobre 10, que como vimos na linguagem do `Python` corresponde a 1/10."
   ]
  },
  {
   "cell_type": "code",
   "execution_count": 14,
   "metadata": {},
   "outputs": [
    {
     "data": {
      "text/plain": [
       "2.0"
      ]
     },
     "execution_count": 14,
     "metadata": {},
     "output_type": "execute_result"
    }
   ],
   "source": [
    "1024**(1/10)"
   ]
  },
  {
   "cell_type": "markdown",
   "metadata": {},
   "source": [
    "### 7.4 Tabela-resumo\n",
    "\n",
    "|     Operação             | Símbolo                |\n",
    "|--------------------------|------------------------|\n",
    "|     Soma                 |  +                     |\n",
    "|     Subtração            |  -                     |\n",
    "|     Multiplicação        |  *                     |\n",
    "|     Divisão              |  /                     |\n",
    "|     Divisão inteira      |  //                    |\n",
    "|     Resto da divisão     |  %                     |\n",
    "|     Potenciação          |  **                    |\n",
    "|     Radiciação           |  ** número racional    |\n",
    "\n",
    "**Exercícios**\n",
    "\n",
    "1. Dados dois números A e B, obtidos através do `input`, faça um programa que ofereça como saída a soma, subtração, multiplicação, divisão (normal, resto e inteira), potenciação e radiciação de A por B.\n",
    "2. Determine se um número C dado através do `input` é, a partir do método proposto no capítulo, divisível por 4.\n",
    "3. Faça um programa que, dados os números D, E e F, realize uma regra de três simples.\n",
    "4. Faça um programa que peça o nome, sobrenome e idade dessa pessoa e depois junte essas informações e apresente com o comando `print`.\n",
    "\n",
    "\n",
    "## 8. Comparadores e operadores lógicos\n",
    "\n",
    "### 8.1 Comparadores\n",
    "\n",
    "Para comparar dois números no `Python` utilizamos os símbolos de igualdade e desigualdade. Veja a tabela a seguir que nos apresenta os símbolos e seus significados.\n",
    "\n",
    "|     Símbolo              | Significado            |\n",
    "|--------------------------|------------------------|\n",
    "|     ==                   |  Igual a               |\n",
    "|     !=                   |  Diferente de          |\n",
    "|     >                    |  Maior que             |\n",
    "|     <                    |  Menor que             |\n",
    "|     >=                   |  Maior ou igual a      |\n",
    "|     <=                   |  Menor ou igual a      |\n",
    "\n",
    "Vale ressaltar que o símbolo de igualdade sozinho nunca é utilizado para comparar dois valores, este é utilizado em outras funções, como declarar valores a variáveis. Como visto na tabela em casos assim é utilizado o símbolo de igualdade duas vezes (`==`).\n",
    "\n",
    "Todo eles funcionam de maneira igual, então os seguintes exemplos se aplicam a todos os símbolos.\n",
    "\n"
   ]
  },
  {
   "cell_type": "code",
   "execution_count": 2,
   "metadata": {},
   "outputs": [
    {
     "data": {
      "text/plain": [
       "True"
      ]
     },
     "execution_count": 2,
     "metadata": {},
     "output_type": "execute_result"
    }
   ],
   "source": [
    "5 == 5"
   ]
  },
  {
   "cell_type": "code",
   "execution_count": 3,
   "metadata": {},
   "outputs": [
    {
     "data": {
      "text/plain": [
       "True"
      ]
     },
     "execution_count": 3,
     "metadata": {},
     "output_type": "execute_result"
    }
   ],
   "source": [
    "5 != 7"
   ]
  },
  {
   "cell_type": "code",
   "execution_count": 4,
   "metadata": {},
   "outputs": [
    {
     "data": {
      "text/plain": [
       "False"
      ]
     },
     "execution_count": 4,
     "metadata": {},
     "output_type": "execute_result"
    }
   ],
   "source": [
    "20 > 30"
   ]
  },
  {
   "cell_type": "code",
   "execution_count": 5,
   "metadata": {},
   "outputs": [
    {
     "data": {
      "text/plain": [
       "True"
      ]
     },
     "execution_count": 5,
     "metadata": {},
     "output_type": "execute_result"
    }
   ],
   "source": [
    "20 > 18 < 21"
   ]
  },
  {
   "cell_type": "code",
   "execution_count": 6,
   "metadata": {},
   "outputs": [
    {
     "data": {
      "text/plain": [
       "True"
      ]
     },
     "execution_count": 6,
     "metadata": {},
     "output_type": "execute_result"
    }
   ],
   "source": [
    "20 >= 20"
   ]
  },
  {
   "cell_type": "code",
   "execution_count": 7,
   "metadata": {},
   "outputs": [
    {
     "data": {
      "text/plain": [
       "False"
      ]
     },
     "execution_count": 7,
     "metadata": {},
     "output_type": "execute_result"
    }
   ],
   "source": [
    "15 <= 10"
   ]
  },
  {
   "cell_type": "markdown",
   "metadata": {},
   "source": [
    "### 8.2 Operadores lógicos\n",
    "\n",
    "Existem três principais operadores lógicos em `Python`, são eles: `and`, `or` e `not`. (Traduzindo para o português: *e*, *ou* e *não*)\n",
    "\n",
    "O primeiro deles, `and`, é utilizado quando as sentenças necessitam ser verdadeiras, isto é, o programa só retornará o valor `true` se todas elas forem verdadeiras. Veja os exemplos:"
   ]
  },
  {
   "cell_type": "code",
   "execution_count": 8,
   "metadata": {},
   "outputs": [
    {
     "data": {
      "text/plain": [
       "True"
      ]
     },
     "execution_count": 8,
     "metadata": {},
     "output_type": "execute_result"
    }
   ],
   "source": [
    "5 > 3 and 5 == 5"
   ]
  },
  {
   "cell_type": "code",
   "execution_count": 9,
   "metadata": {},
   "outputs": [
    {
     "data": {
      "text/plain": [
       "False"
      ]
     },
     "execution_count": 9,
     "metadata": {},
     "output_type": "execute_result"
    }
   ],
   "source": [
    "20 > 19 and 20 < 19 and 20 == 20 and 20 != 21"
   ]
  },
  {
   "cell_type": "markdown",
   "metadata": {},
   "source": [
    "O operador `or` é utilizado quando apenas uma das sentenças precisa ser verdadeira, isto é, se uma dentre todas as sentenças postas no programa for certa será o suficiente para ele retornar o valor `true`. Veja os exemplos:"
   ]
  },
  {
   "cell_type": "code",
   "execution_count": 10,
   "metadata": {},
   "outputs": [
    {
     "data": {
      "text/plain": [
       "True"
      ]
     },
     "execution_count": 10,
     "metadata": {},
     "output_type": "execute_result"
    }
   ],
   "source": [
    "5 >= 5 or 5 != 5"
   ]
  },
  {
   "cell_type": "code",
   "execution_count": 11,
   "metadata": {},
   "outputs": [
    {
     "data": {
      "text/plain": [
       "True"
      ]
     },
     "execution_count": 11,
     "metadata": {},
     "output_type": "execute_result"
    }
   ],
   "source": [
    "5 > 300 or 5 < 1 or 5 != 5 or 5 == 5 or (5/3) > 5 "
   ]
  },
  {
   "cell_type": "markdown",
   "metadata": {},
   "source": [
    "O operador `not` é utilizado para inverter o que está sendo pedido na sentença, ou seja, se tivermos um número X maior do que Y e escrevermos x > Y no programa ele retornará `true`, certo? Mas se colocarmos `not` X > Y ele retornará `false`, porque agora o que se pede é para que X não seja maior que Y. Veja os exemplos:"
   ]
  },
  {
   "cell_type": "code",
   "execution_count": 12,
   "metadata": {},
   "outputs": [
    {
     "data": {
      "text/plain": [
       "True"
      ]
     },
     "execution_count": 12,
     "metadata": {},
     "output_type": "execute_result"
    }
   ],
   "source": [
    "not 5 > 7"
   ]
  },
  {
   "cell_type": "code",
   "execution_count": 13,
   "metadata": {},
   "outputs": [
    {
     "data": {
      "text/plain": [
       "False"
      ]
     },
     "execution_count": 13,
     "metadata": {},
     "output_type": "execute_result"
    }
   ],
   "source": [
    "not 20 > 5"
   ]
  },
  {
   "cell_type": "markdown",
   "metadata": {},
   "source": [
    "**Exercícios**\n",
    "\n",
    "1. Dados três números A, B e C, faça os códigos que verifiquem se: a) A é maior que B e C ao mesmo tempo; b) B é maior que A ou menor ou igual a C; c) A não é maior que C nem maior ou igual a B.\n",
    "2. Faça um programa que, dado três números A, B e C, verfique se o número A elevado a B é maior do que B elevado a C e não é maior que C elevado a A.\n",
    "3. Através do `input` adquira os números X, Y e Z e descubra se a raiz cúbica do número X é um divisor ou do número X ou do Y.\n",
    "4. Faça o programa que, dado o ano atual e o ano de nascimento de Pedro e de Beatriz, descubra se Pedro é mais velho que Beatriz."
   ]
  }
 ],
 "metadata": {
  "kernelspec": {
   "display_name": "Python 3",
   "language": "python",
   "name": "python3"
  },
  "language_info": {
   "codemirror_mode": {
    "name": "ipython",
    "version": 3
   },
   "file_extension": ".py",
   "mimetype": "text/x-python",
   "name": "python",
   "nbconvert_exporter": "python",
   "pygments_lexer": "ipython3",
   "version": "3.7.6"
  }
 },
 "nbformat": 4,
 "nbformat_minor": 4
}
