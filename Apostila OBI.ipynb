{
 "cells": [
  {
   "cell_type": "markdown",
   "metadata": {},
   "source": [
    "# Introdução à Programação em *Python* para Olimpíada Brasileira de Informática (OBI)\n",
    "### *Enzo Costa Frediani, Gabriel dos Reis Vieira, Henrique Leite dos Santos, Henrique Wang e Paulo José Mencacci Costa*\n",
    "\n",
    "## 1. Introdução\n",
    "\n",
    "O objetivo dessa apostila é fornecer um material auxiliar para alunos e ex-alunos da Associação Cactus que tenham interesse em ingressar ao mundo da programação por meio da Olimpíada Brasileira de Informática (OBI). A OBI oferece diferentes linguagens de programação para realização da prova. Escolhemos o `Python` por sua maior simplicidade e por ser uma ótima linguagem para um primeiro contato. Esse material destina-se principalmente para alunos de Ensino Médio e Ensino Fundamental II. Para saber mais sobre as modalidades e outras informações da Olimpíada, acesse: <https://olimpiada.ic.unicamp.br/>.\n",
    "\n",
    "Antes de iniciar os estudos, é importante que os alunos façam a instalação do `Python` corretamente. Para isso, é feito o *download* do programa `Anaconda` (<https://www.anaconda.com/products/individual>). Dentro desse programa, utilizaremos o `Jupyter Notebook`. A parte de instalação é confusa, por isso é importante que o aluno faça essa parte com muito cuidado. Um vídeo que mostra o passo a passo da instalação é <https://www.youtube.com/watch?v=5mDYijMfSzs>. O vídeo possui áudio em inglês. Em português, um vídeo que pode ajudar nesse processo é <https://www.youtube.com/watch?v=BP4D-yaxw6E>. Vale ressaltar, `Google` e `YouTube` são ótimos para nos ajudar. Como o `Python` é amplamente usado no mundo todo, há muita informação disponível. Sempre que houver dúvida (na instalação ou posteriormente), procure na Internet! Você sempre acha uma pessoa que teve essa mesma dúvida!\n",
    "\n",
    "Essa apostila será organizada em duas etapas além desta Introdução. Primeiro, apresentaremos os principais comandos da linguagem, explicando como funciona e para que servem cada um. Nessa etapa, buscaremos apresentar exemplos simples e de fácil compreensão. Por fim, apresentaremos exercícios, da OBI e exercícios próprios, juntamente com suas resoluções. É importante deixar claro desde já: a resolução não é única. Alunos diferentes podem propor diferentes resoluções e ambas estarem certas. Por isso, apresentaremos uma alternativa de solução.\n",
    "\n",
    "Algumas considerações devem ser feitas. Essa apostila sofrerá modificações ao longo do tempo, de forma a ser sempre aprimorada. Novos conteúdos e exercícios devem ser inseridos de forma a termos uma apostila cada vez mais completa e mais próxima das exigências da OBI. Ainda, a ideia é que essa apostila sirva de material introdutório para a programação em `Python` e seja um instrumento importante para os alunos que tenham interesse em aprender um pouco de programação e, quem sabe, seguir uma profissão que envolva conteúdos do tipo. \n",
    "\n",
    "Por fim, sobre os autores: Paulo Mencacci e Henrique Wang são já graduados e contribuem para o projeto desenvolvido pela Cactus. Henrique Leite, Gabriel e Enzo são atualmente bolsistas em colégios particulares de São Paulo. São medalhistas olímpicos e a ideia de realização dessa apostila surgiu justamente após interesse destes em participar da Olimpíada Brasileira de Informática. Ainda, Henrique Leite e Gabriel são ex-alunos da Cactus.\n",
    "\n",
    "## 2. Variáveis de entrada e saída\n",
    "\n",
    "Antes de aprendermos sobre os comandos, é importante que tenhamos uma noção de como os códigos se estruturam. Os exercícios da OBI focam muito no que chamamos de variáveis de entrada e variáveis de saída (veremos mais adiante os tipos de variável). Por isso, é muito importante que os alunos entendam as diferenças entre as duas. Mais adiante, veremos como implementar esses conceitos. \n",
    "\n",
    "Basicamente, variáveis de entrada são as primeiras variáveis que entram no problema. As variáveis de saída, por sua vez, representam a resposta. Em outras palavras, as variáveis de entrada são as primeiras informações que precisamos obter para rodar o código; as variáveis de saída correspondem ao resultado gerado pelo código. Veja alguns exemplos que podem facilitar o entendimento.\n",
    "\n",
    "**Exemplo 1: Digite seu ano de nascimento e será calculada a sua idade.**\n",
    "- Variável de entrada: ano de nascimento;\n",
    "- Variável de saída: sua idade.\n",
    "\n",
    "**Exemplo 2: Informe o número de lados de um polígono e obtenha o número de diagonais deste.**\n",
    "- Variável de entrada: número de lados de um polígono;\n",
    "- Variável de saída: número de diagonais desse polígono.\n",
    "\n",
    "**Exemplo 3: Você vai ao supermercado e compra diversos produtos, cujo preço depende do peso do produto. Você possui 50 reais. Suponha que toda a mercadoria que você pegou seja pesada no caixa, de forma que você só saberá o preço final na hora da compra. É possível comprar todos os produtos?** \n",
    "- Variáveis de entrada: os pesos de cada produto que você comprou;\n",
    "- Variável de saída: Sim, é possível comprar se o valor total for menor 50; Não, pois o valor total excede 50 reais.\n",
    "\n",
    "**Exemplo 4: Um dia você vai a uma loja que possui seu cadastro. A atendente da loja pede que você fale seu nome completo. O sistema da loja dirá se você tem direito à promoção**\n",
    "- Variável de entrada: nome completo;\n",
    "- Variável de saída: Se tem direito ou não à promoção.\n",
    "\n",
    "Os exemplos deixam bem claro o seguinte processo: `Variáveis de entrada > Código > Variáveis de saída`. Nesse primeiro capítulo, estivemos interessados em entender os conceitos de variáveis de entrada e variáveis de saída, mas repare que entre esses dois conceitos há um código (conjunto de comandos, instruções) que vão permitir utilizar as informações iniciais (entrada) para gerar uma resposta (saída). Um dos nossos objetivos na apostila é entender como montar um código em `Python`.\n",
    "\n",
    "Por fim, repare que as variáveis possuem diferentes formatos. No Exemplo 1, a variável de entrada é um número e a variável de saída é um número inteiro. No Exemplo 2, tanto a variável de entrada como a variável de saída são números inteiros. No Exemplo 3, a variável de entrada é um número real (que permite casas decimais), enquanto a variável de saída representa somente um \"Sim\" ou um \"Não\" para o problema. No Exemplo 4, a variável de entrada são letras e a variável de saída representa o \"Sim\" ou \"Não\". O próximo tópico é justamente estudar quais são os tipos de variável e como defini-las. \n",
    "\n",
    "**Exercícios**\n",
    "\n",
    "Responda quais são as variáveis de entrada e saídas nas situações abaixo.\n",
    "\n",
    "1. Um time A joga contra um time B uma partida de futebol. Ganha quem fizer mais gols. Quem será vencedor dessa partida? \n",
    "\n",
    "2. Você foi a um restaurante e fez diversos pedidos. O garçom anota os nomes dos pedidos e escreve no computador. O programa associa o nome do pedido ao valor dele. Quanto ficou a refeição? \n",
    "\n",
    "3. Uma pessoa é muito ocupada. Ela trabalha 10 horas por dia e se dedica em casa por mais 5 horas. A cada dia ela define quantas horas irá dormir. Quanto tempo sobra para o lazer? \n",
    "\n",
    "4. Você quer calcular a hipotenusa de um triângulo retângulo, dado que você sabe os valores dos catetos. Dessa forma, você usa o teorema de Pitágoras: $$ a² = b² + c² $$ Quais as variáveis desse problema? \n",
    "\n",
    "5. Você precisa calcular a área de um triângulo qualquer. Para isso, você usará a fórmula de Herão: $$ A = \\sqrt{p(p-a)(p-b)(p-c)} $$ sendo $a$, $b$ e $c$ os lados do triângulo e $p$ o perímetro. Quais as variáveis desse problema?\n",
    "\n",
    "## 3. Tipos de variável\n",
    "\n",
    "Agora, nossa missão é entender quais são os tipos de variável. No capítulo anterior, vimos que as variáveis podem ser de diversos formatos, como número ou letras. Antes de iniciarmos, duas considerações devem ser feitas: \n",
    "\n",
    "1. Em `Python`, se quisermos comentar o código, ou seja, escrevemos um comando e queremos explicar esse comando, usamos o `#`. Ao usar o `#`, tudo que for escrito ao lado dele é só um comentário, não faz parte do código. Ele é muito usado para comentar algum comando, deixar algum lembrete etc. \n",
    "2. Ainda, vamos \"guardar\" (salvar) a variável com algum nome. Para isso, usamos `=`. Assim, se escrevo algo como `x = 10`, eu sei que x vale 10.\n",
    "\n",
    "Veja os exemplos abaixo para entender melhor o que essas observações querem dizer:"
   ]
  },
  {
   "cell_type": "code",
   "execution_count": 3,
   "metadata": {},
   "outputs": [
    {
     "data": {
      "text/plain": [
       "10"
      ]
     },
     "execution_count": 3,
     "metadata": {},
     "output_type": "execute_result"
    }
   ],
   "source": [
    "# Exemplo 1\n",
    "x = 10\n",
    "x"
   ]
  },
  {
   "cell_type": "markdown",
   "metadata": {},
   "source": [
    "Na primeira linha, com o `#`, eu escrevi um comentário (\"Exemplo 1\"). Repare que ele aparece num tom azul-esverdeado. Com a tecla `Enter`, eu pulo uma linha. Na segunda linha, eu salvo em `x` o valor 10, usando o comando `=`. Ou seja, `x`recebe o número 10. Novamente, teclo `Enter`, pulando mais uma linha. Na terceira e última linha, escrevo somente `x`, pois quando rodar o código, quero que ele me mostre o que tem em `x`. Agora, com `Shift + Enter`, eu rodo o código. O resultado que obtenho é o valor de 10. Repare que o comentário feito (\"Exemplo 1\") não aparece no resultado, pois é somente um comentário. Veja mais um exemplo:"
   ]
  },
  {
   "cell_type": "code",
   "execution_count": 4,
   "metadata": {},
   "outputs": [
    {
     "data": {
      "text/plain": [
       "'Estou aprendendo Python'"
      ]
     },
     "execution_count": 4,
     "metadata": {},
     "output_type": "execute_result"
    }
   ],
   "source": [
    "# Exemplo 2\n",
    "y = \"Estou aprendendo Python\"\n",
    "y"
   ]
  },
  {
   "cell_type": "markdown",
   "metadata": {},
   "source": [
    "Na primeira linha, com o `#`, eu escrevi um comentário (\"Exemplo 2\"). Na segunda linha, eu salvo em `y` o texto \"Estou aprendendo Python\". Repare a diferença: para salvar um texto em uma variável, preciso colocar esse texto entre aspas. Compare esse exemplo com o exemplo anterior. No Exemplo 1, como queria salvar um número, não precisei colocar entre aspas. Essa é uma diferença importante: números não precisam de aspas, mas as letras precisam! Na terceira linha, escrevo somente `y`, para saber o que tem guardado nessa variável. \n",
    "\n",
    "Agora já estamos preparados para aprender quais são os tipos de variável! \n",
    "\n",
    "### 3.1 Variáveis numéricas\n",
    "\n",
    "As variáveis de número podem assumir diversas especificações no `Python`, dependendo do tipo de número que você deseja usar. Por exemplo, os números inteiros (sem decimais) são declarados como `int` (vem do termo em inglês *integer*, ou seja, *inteiros* em português), enquanto números com casas decimais são declarados como `float` (traduzindo do inglês, seria algo *ponto flutuante*). Note que qualquer número que contenha \".\" (ponto) como separador de decimais é caracterizado como `float`, independente se possui ou não casa decimal (para representar casas decimais, **usamos ponto, não vírgula**). Veja os exemplos abaixo."
   ]
  },
  {
   "cell_type": "code",
   "execution_count": 5,
   "metadata": {},
   "outputs": [],
   "source": [
    "# Exemplo 3\n",
    "w = 200"
   ]
  },
  {
   "cell_type": "markdown",
   "metadata": {},
   "source": [
    "Aqui, `w` está recebendo o valor 200. Assim, esperamos que seja do tipo `int`. Para conferir isso, podemos usar o comando `type`:"
   ]
  },
  {
   "cell_type": "code",
   "execution_count": 6,
   "metadata": {},
   "outputs": [
    {
     "data": {
      "text/plain": [
       "int"
      ]
     },
     "execution_count": 6,
     "metadata": {},
     "output_type": "execute_result"
    }
   ],
   "source": [
    "type(w)"
   ]
  },
  {
   "cell_type": "markdown",
   "metadata": {},
   "source": [
    "Veja que ao escrevermos `type(w)`, foi retornado o tipo da variável `w`. Como esperado, ela é do tipo `int`. Veja, agora, o próximo exemplo:"
   ]
  },
  {
   "cell_type": "code",
   "execution_count": 7,
   "metadata": {},
   "outputs": [],
   "source": [
    "# Exemplo 4\n",
    "z = 16.5"
   ]
  },
  {
   "cell_type": "markdown",
   "metadata": {},
   "source": [
    "Aqui, `z` está recebendo o valor 16.5. Portanto, esperamos que seja do tipo `float`. Podemos conferir usando `type`:"
   ]
  },
  {
   "cell_type": "code",
   "execution_count": 8,
   "metadata": {},
   "outputs": [
    {
     "data": {
      "text/plain": [
       "float"
      ]
     },
     "execution_count": 8,
     "metadata": {},
     "output_type": "execute_result"
    }
   ],
   "source": [
    "type(z)"
   ]
  },
  {
   "cell_type": "markdown",
   "metadata": {},
   "source": [
    "Ao escrevermos `type(z)`, concluimos que, de fato, `z` é do tipo `float`. No exemplo abaixo, faremos esse processo de maneira mais rápida: "
   ]
  },
  {
   "cell_type": "code",
   "execution_count": 9,
   "metadata": {},
   "outputs": [
    {
     "data": {
      "text/plain": [
       "float"
      ]
     },
     "execution_count": 9,
     "metadata": {},
     "output_type": "execute_result"
    }
   ],
   "source": [
    "# Exemplo 5\n",
    "t = 10.0\n",
    "type(t)"
   ]
  },
  {
   "cell_type": "markdown",
   "metadata": {},
   "source": [
    "Declaramos `t` como 10.0. Por mais que seja um número inteiro, estamos colocando o **ponto**, que indica casas decimais. Dessa forma, ele será classificado como `float`. Resumindo, apredemos dois tipos de variáveis númericas:\n",
    "- Do tipo `int`: representa os números inteiros;\n",
    "- Do tipo `float`: que representa os números decimais ou números que apresentem **ponto**.\n",
    "\n",
    "### 3.2 Variáveis de texto\n",
    "\n",
    "As variáveis também podem assumir forma de texto (palavras), onde a entrada passa a ser um texto qualquer (sempre entre aspas ' ' ou \"  \"). O nome desse tipo de variável é `str` (vem do termo em inglês *string*; em português, traduziremos por *texto*). No Exemplo 2, você já viu como declarar esse tipo de variável. Porém, vamos fazer mais dois exemplos, já juntando com o comando `type`."
   ]
  },
  {
   "cell_type": "code",
   "execution_count": 10,
   "metadata": {},
   "outputs": [
    {
     "data": {
      "text/plain": [
       "str"
      ]
     },
     "execution_count": 10,
     "metadata": {},
     "output_type": "execute_result"
    }
   ],
   "source": [
    "# Exemplo 6\n",
    "texto_1 = \"Hello, World!\"\n",
    "type(texto_1)"
   ]
  },
  {
   "cell_type": "markdown",
   "metadata": {},
   "source": [
    "Obtemos o resultado esperado, uma vez que \"Hello, World!\" foi escrito entre aspas. Há uma observação sutil, mas importante: o nome da variável que guardei é `texto_1`. Antes, vínhamos usando somente letras separadas, como `x` ou `t`. Porém, podemos dar nomes mais completos, como o do Exemplo 6. **A principal regra para nomear variável é: não ter espaço entre as letras!**. Ou seja, se eu tivesse escrito \"texto 1\" não funcionaria! "
   ]
  },
  {
   "cell_type": "code",
   "execution_count": 11,
   "metadata": {},
   "outputs": [
    {
     "data": {
      "text/plain": [
       "str"
      ]
     },
     "execution_count": 11,
     "metadata": {},
     "output_type": "execute_result"
    }
   ],
   "source": [
    "# Exemplo 7\n",
    "texto_2 = \"Os autores dessa apostila são: Enzo, Gabriel, Henrique L., Henrique W. e Paulo\"\n",
    "type(texto_2)"
   ]
  },
  {
   "cell_type": "markdown",
   "metadata": {},
   "source": [
    "O Exemplo 7 não é muito diferente do Exemplo 6.\n",
    "\n",
    "### 3.3 Variáveis de lógica \n",
    "\n",
    "Outro tipo de variável importante é a variável do tipo \"Sim\" ou \"Não\" ou \"Verdadeiro\" ou \"Falso\". Os Exemplos 3 e 4 do Capítulo 2 são referentes a esse tipo de variável. Caso a condição seja atendida, recebe \"Verdadeiro\" ou \"Sim\"; caso a situação não seja válida, recebe \"Falso\" ou \"Não\". Essas variáveis também são chamadas de variáveis *booleanas*. Por isso, o tipo dessa variável é descrito como `bool`. Para declarar esse tipo de variável, usamos as expressões `True` e `False` (em portguês, verdadeiro ou falso). Veja os exemplos abaixo."
   ]
  },
  {
   "cell_type": "code",
   "execution_count": 12,
   "metadata": {},
   "outputs": [
    {
     "data": {
      "text/plain": [
       "bool"
      ]
     },
     "execution_count": 12,
     "metadata": {},
     "output_type": "execute_result"
    }
   ],
   "source": [
    "# Exemplo 8\n",
    "b_1 = True\n",
    "type(b_1)"
   ]
  },
  {
   "cell_type": "code",
   "execution_count": 13,
   "metadata": {},
   "outputs": [
    {
     "data": {
      "text/plain": [
       "bool"
      ]
     },
     "execution_count": 13,
     "metadata": {},
     "output_type": "execute_result"
    }
   ],
   "source": [
    "# Exemplo 9\n",
    "b_2 = False\n",
    "type(b_2)"
   ]
  },
  {
   "cell_type": "markdown",
   "metadata": {},
   "source": [
    "Salvei em `b_1` e `b_2` os valores `True` e `False`, respectivamente. Usando a função `type`, retorna-se que o tipo é `bool`, isto é, variáveis são do tipo *booleana*. "
   ]
  },
  {
   "cell_type": "markdown",
   "metadata": {},
   "source": [
    "### 3.4 Observações \n",
    "\n",
    "Durante esse capítulo, declaramos diversas variáveis (salvamos diversos valores em diferentes nomes). Será que há alguma maneira de saber todas as variáveis e seus tipo de uma vez só? A resposta é sim! Para isso, usamos o comando `%whos`. Veja o resultado dele abaixo:"
   ]
  },
  {
   "cell_type": "code",
   "execution_count": 14,
   "metadata": {},
   "outputs": [
    {
     "name": "stdout",
     "output_type": "stream",
     "text": [
      "Variable   Type     Data/Info\n",
      "-----------------------------\n",
      "b_1        bool     True\n",
      "b_2        bool     False\n",
      "t          float    10.0\n",
      "texto_1    str      Hello, World!\n",
      "texto_2    str      Os autores dessa apostila<...>e L., Henrique W. e Paulo\n",
      "w          int      200\n",
      "x          int      10\n",
      "y          str      Estou aprendendo Python\n",
      "z          float    16.5\n"
     ]
    }
   ],
   "source": [
    "%whos"
   ]
  },
  {
   "cell_type": "markdown",
   "metadata": {},
   "source": [
    "Todas as variáveis são mostradas na tabela gerada por esse comando. Na primeira coluna, aparecem os nomes das variáveis. Na segunda, o tipo de cada variável. Na terceira coluna, são apresentadas as informações que salvamos nessas variáveis.\n",
    "\n",
    "Por fim, suponha que queremos excluir uma variável. Vamos excluir a variável `texto_2`. Para isso, usamos o comando `del` (*delete*, em inglês; *deletar*, em português). Temos:"
   ]
  },
  {
   "cell_type": "code",
   "execution_count": 15,
   "metadata": {},
   "outputs": [],
   "source": [
    "del(texto_2)"
   ]
  },
  {
   "cell_type": "markdown",
   "metadata": {},
   "source": [
    "Se usarmos o comando `%whos`, vemos que ele não faz mais parte das variáveis salvas. Veja:"
   ]
  },
  {
   "cell_type": "code",
   "execution_count": 16,
   "metadata": {
    "scrolled": true
   },
   "outputs": [
    {
     "name": "stdout",
     "output_type": "stream",
     "text": [
      "Variable   Type     Data/Info\n",
      "-----------------------------\n",
      "b_1        bool     True\n",
      "b_2        bool     False\n",
      "t          float    10.0\n",
      "texto_1    str      Hello, World!\n",
      "w          int      200\n",
      "x          int      10\n",
      "y          str      Estou aprendendo Python\n",
      "z          float    16.5\n"
     ]
    }
   ],
   "source": [
    "%whos"
   ]
  },
  {
   "cell_type": "markdown",
   "metadata": {},
   "source": [
    "É possível deletar várias variáveis ao mesmo tempo, por exemplo: "
   ]
  },
  {
   "cell_type": "code",
   "execution_count": 17,
   "metadata": {},
   "outputs": [],
   "source": [
    "del(t, w, x, y, z)"
   ]
  },
  {
   "cell_type": "markdown",
   "metadata": {},
   "source": [
    "Se eu usar o comando `%whos` novamente, veremos que essas variáveis foram excluídas:"
   ]
  },
  {
   "cell_type": "code",
   "execution_count": 18,
   "metadata": {},
   "outputs": [
    {
     "name": "stdout",
     "output_type": "stream",
     "text": [
      "Variable   Type    Data/Info\n",
      "----------------------------\n",
      "b_1        bool    True\n",
      "b_2        bool    False\n",
      "texto_1    str     Hello, World!\n"
     ]
    }
   ],
   "source": [
    "%whos"
   ]
  },
  {
   "cell_type": "markdown",
   "metadata": {},
   "source": [
    "**Exercícios**\n",
    "\n",
    "1. Refaça os exemplos do Capítulo 2, dizendo quais os tipos das variáveis de entrada e saída (`int`, `float` ou `str`)\n",
    "2. Refaça os exercícios do Capítulo 2, dizendo quais os tipos das variáveis de entrada e saída (`int`, `float` ou `str`)\n",
    "3. Escreva a sua altura, em metros e em centímetros. Use `type` para saber quais são os tipos de cada varíavel.\n",
    "4. No exercício 2, do Capítulo 2, você foi ao restaurante e pediu alguns pratos. Nesse dia, você fez três pedidos: salada, estrogonofe acompanhado de arroz e sorvete de creme. Salve esses pratos em três variáveis. Use `type` para mostrar o tipo de cada variável. \n",
    "5. Pense em todas as variáveis que você criou ao longo dos exercícios. Use o comando `%whos` e comente. \n",
    "6. Você salvou sua altura tanto em *cm* como em *m* no exercício 2. As duas informações representam a mesma coisa. Exclua uma delas."
   ]
  },
  {
   "cell_type": "code",
   "execution_count": null,
   "metadata": {},
   "outputs": [],
   "source": []
  }
 ],
 "metadata": {
  "kernelspec": {
   "display_name": "Python 3",
   "language": "python",
   "name": "python3"
  },
  "language_info": {
   "codemirror_mode": {
    "name": "ipython",
    "version": 3
   },
   "file_extension": ".py",
   "mimetype": "text/x-python",
   "name": "python",
   "nbconvert_exporter": "python",
   "pygments_lexer": "ipython3",
   "version": "3.7.6"
  }
 },
 "nbformat": 4,
 "nbformat_minor": 4
}
